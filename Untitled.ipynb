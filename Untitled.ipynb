{
 "cells": [
  {
   "cell_type": "code",
   "execution_count": 9,
   "id": "5648d4cf",
   "metadata": {},
   "outputs": [],
   "source": [
    "import datetime\n",
    "import pandas as pd\n",
    "import requests as re"
   ]
  },
  {
   "cell_type": "code",
   "execution_count": 10,
   "id": "7c407140",
   "metadata": {},
   "outputs": [],
   "source": [
    "def getData(token, fromm, to, time_frame):\n",
    "    \n",
    "    data=re.get(f\"https://api.kite.trade/instruments/historical/{token}/{time_frame}?from={fromm}&to={to}\",headers=headers)\n",
    "    df=pd.DataFrame(data.json()['data']['candles'])\n",
    "    df.columns = [\"Timestamp\", \"Open\", \"high\", \"low\",\"close\",\"volume\"]\n",
    "\n",
    "    return SuperTrend(df).iloc[-1]"
   ]
  },
  {
   "cell_type": "code",
   "execution_count": 11,
   "id": "5b8029f9",
   "metadata": {},
   "outputs": [
    {
     "ename": "NameError",
     "evalue": "name 'df' is not defined",
     "output_type": "error",
     "traceback": [
      "\u001b[1;31m---------------------------------------------------------------------------\u001b[0m",
      "\u001b[1;31mNameError\u001b[0m                                 Traceback (most recent call last)",
      "Cell \u001b[1;32mIn[11], line 1\u001b[0m\n\u001b[1;32m----> 1\u001b[0m \u001b[43mdf\u001b[49m\n",
      "\u001b[1;31mNameError\u001b[0m: name 'df' is not defined"
     ]
    }
   ],
   "source": [
    "df"
   ]
  },
  {
   "cell_type": "code",
   "execution_count": 12,
   "id": "07461830",
   "metadata": {},
   "outputs": [],
   "source": [
    " def SuperTrend(data, period = 10, multiplier=3, ohlc=['open', 'high', 'low', 'close']):\n",
    "        global supertrend\n",
    "        data['tr0'] = abs(data[\"high\"] - data[\"low\"])\n",
    "        data['tr1'] = abs(data[\"high\"] - data[\"close\"].shift(1))\n",
    "        data['tr2'] = abs(data[\"low\"]- data[\"close\"].shift(1))\n",
    "        data[\"TR\"] = round(data[['tr0', 'tr1', 'tr2']].max(axis=1),2)\n",
    "        data[\"ATR\"]=0.00\n",
    "        data['BUB']=0.00\n",
    "        data[\"BLB\"]=0.00\n",
    "        data[\"final_ub\"]=0.00\n",
    "        data[\"final_lb\"]=0.00\n",
    "        data[\"ST\"]=0.00\n",
    "        for i, row in data.iterrows():\n",
    "            if i == 0:\n",
    "                data.loc[i,'ATR'] = 0.00#data['ATR'].iat[0]\n",
    "            else:\n",
    "                data.loc[i,'ATR'] = ((data.loc[i-1,'ATR'] * (period-1))+data.loc[i,'TR'])/period\n",
    "        data['BUB'] = round(((data[\"high\"] + data[\"low\"]) / 2) + (multiplier * data[\"ATR\"]),2)\n",
    "        data['BLB'] = round(((data[\"high\"] + data[\"low\"]) / 2) - (multiplier * data[\"ATR\"]),2)\n",
    "        for i, row in data.iterrows():\n",
    "            if i==0:\n",
    "                data.loc[i,\"final_ub\"]=0.00\n",
    "            else:\n",
    "                if (data.loc[i,\"BUB\"]<data.loc[i-1,\"final_ub\"])|(data.loc[i-1,\"close\"]>data.loc[i-1,\"final_ub\"]):\n",
    "                    data.loc[i,\"final_ub\"]=data.loc[i,\"BUB\"]\n",
    "                else:\n",
    "                    data.loc[i,\"final_ub\"]=data.loc[i-1,\"final_ub\"]\n",
    "\n",
    "        for i, row in data.iterrows():\n",
    "            if i==0:\n",
    "                data.loc[i,\"final_lb\"]=0.00\n",
    "            else:\n",
    "                if (data.loc[i,\"BLB\"]>data.loc[i-1,\"final_lb\"])|(data.loc[i-1,\"close\"]<data.loc[i-1,\"final_lb\"]):\n",
    "                    data.loc[i,\"final_lb\"]=data.loc[i,\"BLB\"]\n",
    "                else:\n",
    "                    data.loc[i,\"final_lb\"]=data.loc[i-1,\"final_lb\"]\n",
    "\n",
    "        for i, row in data.iterrows():\n",
    "            if i==0:\n",
    "                data.loc[i,\"ST\"]=0.00\n",
    "            elif (data.loc[i-1,\"ST\"]==data.loc[i-1,\"final_ub\"]) & (data.loc[i,\"close\"]<=data.loc[i,\"final_ub\"]):\n",
    "                data.loc[i,\"ST\"]=data.loc[i,\"final_ub\"]\n",
    "            elif (data.loc[i-1,\"ST\"]==data.loc[i-1,\"final_ub\"])&(data.loc[i,\"close\"]>data.loc[i,\"final_ub\"]):\n",
    "                data.loc[i,\"ST\"]=data.loc[i,\"final_lb\"]\n",
    "            elif (data.loc[i-1,\"ST\"]==data.loc[i-1,\"final_lb\"])&(data.loc[i,\"close\"]>=data.loc[i,\"final_lb\"]):\n",
    "                data.loc[i,\"ST\"]=data.loc[i,\"final_lb\"]\n",
    "            elif (data.loc[i-1,\"ST\"]==data.loc[i-1,\"final_lb\"])&(data.loc[i,\"close\"]<data.loc[i,\"final_lb\"]):\n",
    "                data.loc[i,\"ST\"]=data.loc[i,\"final_ub\"]\n",
    "\n",
    "        # Buy Sell Indicator\n",
    "        for i, row in data.iterrows():\n",
    "            if i==0:\n",
    "                data[\"STX\"]=\"NA\"\n",
    "            elif (data.loc[i,\"ST\"]<data.loc[i,\"close\"]) :\n",
    "                data.loc[i,\"STX\"]=\"green\"\n",
    "            else:\n",
    "                data.loc[i,\"STX\"]=\"red\"\n",
    "        data.drop(['tr0', 'tr1', 'tr2', 'TR','BUB', 'BLB'], inplace=True, axis=1)\n",
    "        return data.iloc(-1)\n"
   ]
  },
  {
   "cell_type": "code",
   "execution_count": 13,
   "id": "d5780a3a",
   "metadata": {},
   "outputs": [
    {
     "ename": "ValueError",
     "evalue": "No axis named -1 for object type DataFrame",
     "output_type": "error",
     "traceback": [
      "\u001b[1;31m---------------------------------------------------------------------------\u001b[0m",
      "\u001b[1;31mKeyError\u001b[0m                                  Traceback (most recent call last)",
      "File \u001b[1;32mC:\\Python310\\lib\\site-packages\\pandas\\core\\generic.py:554\u001b[0m, in \u001b[0;36mNDFrame._get_axis_number\u001b[1;34m(cls, axis)\u001b[0m\n\u001b[0;32m    553\u001b[0m \u001b[38;5;28;01mtry\u001b[39;00m:\n\u001b[1;32m--> 554\u001b[0m     \u001b[38;5;28;01mreturn\u001b[39;00m \u001b[38;5;28;43mcls\u001b[39;49m\u001b[38;5;241;43m.\u001b[39;49m\u001b[43m_AXIS_TO_AXIS_NUMBER\u001b[49m\u001b[43m[\u001b[49m\u001b[43maxis\u001b[49m\u001b[43m]\u001b[49m\n\u001b[0;32m    555\u001b[0m \u001b[38;5;28;01mexcept\u001b[39;00m \u001b[38;5;167;01mKeyError\u001b[39;00m:\n",
      "\u001b[1;31mKeyError\u001b[0m: -1",
      "\nDuring handling of the above exception, another exception occurred:\n",
      "\u001b[1;31mValueError\u001b[0m                                Traceback (most recent call last)",
      "Cell \u001b[1;32mIn[13], line 21\u001b[0m\n\u001b[0;32m     18\u001b[0m \u001b[38;5;28;01melse\u001b[39;00m:\n\u001b[0;32m     19\u001b[0m     time_frame \u001b[38;5;241m=\u001b[39m \u001b[38;5;28mstr\u001b[39m(interval)\u001b[38;5;241m+\u001b[39m\u001b[38;5;124m'\u001b[39m\u001b[38;5;124mminute\u001b[39m\u001b[38;5;124m'\u001b[39m\n\u001b[1;32m---> 21\u001b[0m last_row \u001b[38;5;241m=\u001b[39m \u001b[43mgetData\u001b[49m\u001b[43m(\u001b[49m\u001b[38;5;241;43m5097729\u001b[39;49m\u001b[43m,\u001b[49m\u001b[43mfrom_date\u001b[49m\u001b[43m,\u001b[49m\u001b[43m \u001b[49m\u001b[43mto_date\u001b[49m\u001b[43m,\u001b[49m\u001b[43m \u001b[49m\u001b[43mtime_frame\u001b[49m\u001b[43m \u001b[49m\u001b[43m)\u001b[49m\n\u001b[0;32m     22\u001b[0m last_time\u001b[38;5;241m=\u001b[39mlast_row\u001b[38;5;241m.\u001b[39mTimestamp\n\u001b[0;32m     23\u001b[0m \u001b[38;5;28mprint\u001b[39m(\u001b[38;5;124m'\u001b[39m\u001b[38;5;124mrunning\u001b[39m\u001b[38;5;124m'\u001b[39m,datetime\u001b[38;5;241m.\u001b[39mdatetime\u001b[38;5;241m.\u001b[39mnow(),last_time,last_row)\n",
      "Cell \u001b[1;32mIn[10], line 7\u001b[0m, in \u001b[0;36mgetData\u001b[1;34m(token, fromm, to, time_frame)\u001b[0m\n\u001b[0;32m      4\u001b[0m df\u001b[38;5;241m=\u001b[39mpd\u001b[38;5;241m.\u001b[39mDataFrame(data\u001b[38;5;241m.\u001b[39mjson()[\u001b[38;5;124m'\u001b[39m\u001b[38;5;124mdata\u001b[39m\u001b[38;5;124m'\u001b[39m][\u001b[38;5;124m'\u001b[39m\u001b[38;5;124mcandles\u001b[39m\u001b[38;5;124m'\u001b[39m])\n\u001b[0;32m      5\u001b[0m df\u001b[38;5;241m.\u001b[39mcolumns \u001b[38;5;241m=\u001b[39m [\u001b[38;5;124m\"\u001b[39m\u001b[38;5;124mTimestamp\u001b[39m\u001b[38;5;124m\"\u001b[39m, \u001b[38;5;124m\"\u001b[39m\u001b[38;5;124mOpen\u001b[39m\u001b[38;5;124m\"\u001b[39m, \u001b[38;5;124m\"\u001b[39m\u001b[38;5;124mhigh\u001b[39m\u001b[38;5;124m\"\u001b[39m, \u001b[38;5;124m\"\u001b[39m\u001b[38;5;124mlow\u001b[39m\u001b[38;5;124m\"\u001b[39m,\u001b[38;5;124m\"\u001b[39m\u001b[38;5;124mclose\u001b[39m\u001b[38;5;124m\"\u001b[39m,\u001b[38;5;124m\"\u001b[39m\u001b[38;5;124mvolume\u001b[39m\u001b[38;5;124m\"\u001b[39m]\n\u001b[1;32m----> 7\u001b[0m \u001b[38;5;28;01mreturn\u001b[39;00m \u001b[43mSuperTrend\u001b[49m\u001b[43m(\u001b[49m\u001b[43mdf\u001b[49m\u001b[43m)\u001b[49m\u001b[38;5;241m.\u001b[39miloc[\u001b[38;5;241m-\u001b[39m\u001b[38;5;241m1\u001b[39m]\n",
      "Cell \u001b[1;32mIn[12], line 59\u001b[0m, in \u001b[0;36mSuperTrend\u001b[1;34m(data, period, multiplier, ohlc)\u001b[0m\n\u001b[0;32m     57\u001b[0m         data\u001b[38;5;241m.\u001b[39mloc[i,\u001b[38;5;124m\"\u001b[39m\u001b[38;5;124mSTX\u001b[39m\u001b[38;5;124m\"\u001b[39m]\u001b[38;5;241m=\u001b[39m\u001b[38;5;124m\"\u001b[39m\u001b[38;5;124mred\u001b[39m\u001b[38;5;124m\"\u001b[39m\n\u001b[0;32m     58\u001b[0m data\u001b[38;5;241m.\u001b[39mdrop([\u001b[38;5;124m'\u001b[39m\u001b[38;5;124mtr0\u001b[39m\u001b[38;5;124m'\u001b[39m, \u001b[38;5;124m'\u001b[39m\u001b[38;5;124mtr1\u001b[39m\u001b[38;5;124m'\u001b[39m, \u001b[38;5;124m'\u001b[39m\u001b[38;5;124mtr2\u001b[39m\u001b[38;5;124m'\u001b[39m, \u001b[38;5;124m'\u001b[39m\u001b[38;5;124mTR\u001b[39m\u001b[38;5;124m'\u001b[39m,\u001b[38;5;124m'\u001b[39m\u001b[38;5;124mBUB\u001b[39m\u001b[38;5;124m'\u001b[39m, \u001b[38;5;124m'\u001b[39m\u001b[38;5;124mBLB\u001b[39m\u001b[38;5;124m'\u001b[39m], inplace\u001b[38;5;241m=\u001b[39m\u001b[38;5;28;01mTrue\u001b[39;00m, axis\u001b[38;5;241m=\u001b[39m\u001b[38;5;241m1\u001b[39m)\n\u001b[1;32m---> 59\u001b[0m \u001b[38;5;28;01mreturn\u001b[39;00m \u001b[43mdata\u001b[49m\u001b[38;5;241;43m.\u001b[39;49m\u001b[43miloc\u001b[49m\u001b[43m(\u001b[49m\u001b[38;5;241;43m-\u001b[39;49m\u001b[38;5;241;43m1\u001b[39;49m\u001b[43m)\u001b[49m\n",
      "File \u001b[1;32mC:\\Python310\\lib\\site-packages\\pandas\\core\\indexing.py:668\u001b[0m, in \u001b[0;36m_LocationIndexer.__call__\u001b[1;34m(self, axis)\u001b[0m\n\u001b[0;32m    665\u001b[0m new_self \u001b[38;5;241m=\u001b[39m \u001b[38;5;28mtype\u001b[39m(\u001b[38;5;28mself\u001b[39m)(\u001b[38;5;28mself\u001b[39m\u001b[38;5;241m.\u001b[39mname, \u001b[38;5;28mself\u001b[39m\u001b[38;5;241m.\u001b[39mobj)\n\u001b[0;32m    667\u001b[0m \u001b[38;5;28;01mif\u001b[39;00m axis \u001b[38;5;129;01mis\u001b[39;00m \u001b[38;5;129;01mnot\u001b[39;00m \u001b[38;5;28;01mNone\u001b[39;00m:\n\u001b[1;32m--> 668\u001b[0m     axis \u001b[38;5;241m=\u001b[39m \u001b[38;5;28;43mself\u001b[39;49m\u001b[38;5;241;43m.\u001b[39;49m\u001b[43mobj\u001b[49m\u001b[38;5;241;43m.\u001b[39;49m\u001b[43m_get_axis_number\u001b[49m\u001b[43m(\u001b[49m\u001b[43maxis\u001b[49m\u001b[43m)\u001b[49m\n\u001b[0;32m    669\u001b[0m new_self\u001b[38;5;241m.\u001b[39maxis \u001b[38;5;241m=\u001b[39m axis\n\u001b[0;32m    670\u001b[0m \u001b[38;5;28;01mreturn\u001b[39;00m new_self\n",
      "File \u001b[1;32mC:\\Python310\\lib\\site-packages\\pandas\\core\\generic.py:556\u001b[0m, in \u001b[0;36mNDFrame._get_axis_number\u001b[1;34m(cls, axis)\u001b[0m\n\u001b[0;32m    554\u001b[0m     \u001b[38;5;28;01mreturn\u001b[39;00m \u001b[38;5;28mcls\u001b[39m\u001b[38;5;241m.\u001b[39m_AXIS_TO_AXIS_NUMBER[axis]\n\u001b[0;32m    555\u001b[0m \u001b[38;5;28;01mexcept\u001b[39;00m \u001b[38;5;167;01mKeyError\u001b[39;00m:\n\u001b[1;32m--> 556\u001b[0m     \u001b[38;5;28;01mraise\u001b[39;00m \u001b[38;5;167;01mValueError\u001b[39;00m(\u001b[38;5;124mf\u001b[39m\u001b[38;5;124m\"\u001b[39m\u001b[38;5;124mNo axis named \u001b[39m\u001b[38;5;132;01m{\u001b[39;00maxis\u001b[38;5;132;01m}\u001b[39;00m\u001b[38;5;124m for object type \u001b[39m\u001b[38;5;132;01m{\u001b[39;00m\u001b[38;5;28mcls\u001b[39m\u001b[38;5;241m.\u001b[39m\u001b[38;5;18m__name__\u001b[39m\u001b[38;5;132;01m}\u001b[39;00m\u001b[38;5;124m\"\u001b[39m)\n",
      "\u001b[1;31mValueError\u001b[0m: No axis named -1 for object type DataFrame"
     ]
    }
   ],
   "source": [
    "from dateutil import parser\n",
    "import requests as re\n",
    "API_KEY=\"rfnqn5jyts2ljcq1\"\n",
    "# RUBbPfsVE3sbiBpIk109eAY4L8cOvdnv\n",
    "# VkjKYp51T2TgvvHNPukdY5K2gRttR3W7\n",
    "ACCESS_TOKEN=\"RUBbPfsVE3sbiBpIk109eAY4L8cOvdnv\"\n",
    "headers={\"X-Kite-Version\":'3','Authorization':\"token \"+API_KEY+\":\"+ACCESS_TOKEN}\n",
    "\n",
    "\n",
    "interval=3\n",
    "import datetime,time\n",
    "\n",
    "from_date = datetime.datetime.now()-datetime.timedelta(days=90)\n",
    "to_date = datetime.datetime.now()-datetime.timedelta(minutes=interval)\n",
    "if interval==1:\n",
    "    time_frame = 'minute'\n",
    "    \n",
    "else:\n",
    "    time_frame = str(interval)+'minute'\n",
    "    \n",
    "last_row = getData(5097729,from_date, to_date, time_frame )\n",
    "last_time=last_row.Timestamp\n",
    "print('running',datetime.datetime.now(),last_time,last_row)\n",
    "\n",
    "\n",
    "\n",
    "while True:\n",
    "    time.sleep(1)\n",
    "    if str(parser.parse(last_time.replace(\"T\",\" \"))+datetime.timedelta(minutes=interval*2))<str(datetime.datetime.now()):\n",
    "        \n",
    "        from_date = datetime.datetime.now()-datetime.timedelta(days=90)\n",
    "        to_date = datetime.datetime.now()-datetime.timedelta(minutes=interval)\n",
    "        last_row = getData(5097729,from_date, to_date, time_frame )\n",
    "        last_time=last_row.Timestamp\n",
    "        print('running',datetime.datetime.now(),last_time,last_row)"
   ]
  },
  {
   "cell_type": "code",
   "execution_count": null,
   "id": "bc3b107e",
   "metadata": {},
   "outputs": [],
   "source": []
  },
  {
   "cell_type": "code",
   "execution_count": null,
   "id": "384cd174",
   "metadata": {},
   "outputs": [],
   "source": []
  }
 ],
 "metadata": {
  "kernelspec": {
   "display_name": "Python 3 (ipykernel)",
   "language": "python",
   "name": "python3"
  },
  "language_info": {
   "codemirror_mode": {
    "name": "ipython",
    "version": 3
   },
   "file_extension": ".py",
   "mimetype": "text/x-python",
   "name": "python",
   "nbconvert_exporter": "python",
   "pygments_lexer": "ipython3",
   "version": "3.10.2"
  }
 },
 "nbformat": 4,
 "nbformat_minor": 5
}
