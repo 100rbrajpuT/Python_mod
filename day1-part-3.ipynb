{
 "cells": [
  {
   "cell_type": "code",
   "execution_count": 5,
   "id": "2e6488ca",
   "metadata": {},
   "outputs": [],
   "source": [
    "API_KEY=\"rfnqn5jyts2ljcq1\"\n",
    "# ACCESS_TOKEN=\"dQIDEhxsdUSsxIADCCFL3G1WWOGf8UW4\"\n",
    "ACCESS_TOKEN=\"e06AZ81g3j7VCITM3qcyrRoYjSNbhvA9\"\n",
    "API_SECRET=\"4t8tlmijcewpoov8nayd978x7bpj4yif\"\n",
    "\n",
    "headers={\"X-Kite-Version\":'3','Authorization':\"token \"+API_KEY+\":\"+ACCESS_TOKEN}"
   ]
  },
  {
   "cell_type": "code",
   "execution_count": 6,
   "id": "a6b2a1d8",
   "metadata": {},
   "outputs": [
    {
     "data": {
      "text/plain": [
       "'rfnqn5jyts2ljcq1:e06AZ81g3j7VCITM3qcyrRoYjSNbhvA9'"
      ]
     },
     "execution_count": 6,
     "metadata": {},
     "output_type": "execute_result"
    }
   ],
   "source": [
    "API_KEY+':'+ACCESS_TOKEN"
   ]
  },
  {
   "cell_type": "code",
   "execution_count": null,
   "id": "7c365e9a",
   "metadata": {},
   "outputs": [],
   "source": []
  },
  {
   "cell_type": "code",
   "execution_count": 7,
   "id": "57141b0c",
   "metadata": {},
   "outputs": [],
   "source": [
    "ROOT_ENDPOINT=\"https://api.kite.trade\""
   ]
  },
  {
   "cell_type": "code",
   "execution_count": 22,
   "id": "5f358f4c",
   "metadata": {},
   "outputs": [
    {
     "ename": "SyntaxError",
     "evalue": "invalid syntax (2975678362.py, line 1)",
     "output_type": "error",
     "traceback": [
      "\u001b[1;36m  Cell \u001b[1;32mIn[22], line 1\u001b[1;36m\u001b[0m\n\u001b[1;33m    https:/kite.zerodha.com/connect/login?v=3&api_key=rfnqn5jyts2ljcq1\u001b[0m\n\u001b[1;37m          ^\u001b[0m\n\u001b[1;31mSyntaxError\u001b[0m\u001b[1;31m:\u001b[0m invalid syntax\n"
     ]
    }
   ],
   "source": [
    "https://kite.zerodha.com/connect/login?v=3&api_key=rfnqn5jyts2ljcq1"
   ]
  },
  {
   "cell_type": "code",
   "execution_count": 5,
   "id": "58074c39",
   "metadata": {},
   "outputs": [],
   "source": [
    "url='https://www.google.com/?type=login&status=success&request_token=GtXGu7jfUASX1Y4sZa3PkYOo7z2nv14w&action=login'"
   ]
  },
  {
   "cell_type": "code",
   "execution_count": 6,
   "id": "45865b27",
   "metadata": {},
   "outputs": [
    {
     "ename": "SyntaxError",
     "evalue": "invalid syntax (3493485791.py, line 1)",
     "output_type": "error",
     "traceback": [
      "\u001b[1;36m  Cell \u001b[1;32mIn[6], line 1\u001b[1;36m\u001b[0m\n\u001b[1;33m    curl https://api.kite.trade/session/token \\\u001b[0m\n\u001b[1;37m         ^\u001b[0m\n\u001b[1;31mSyntaxError\u001b[0m\u001b[1;31m:\u001b[0m invalid syntax\n"
     ]
    }
   ],
   "source": [
    "curl https://api.kite.trade/session/token \\\n",
    "   -H \"X-Kite-Version: 3\" \\\n",
    "   -d \"api_key=xxx\" \\\n",
    "   -d \"request_token=yyy\" \\\n",
    "   -d \"checksum=zzz\""
   ]
  },
  {
   "cell_type": "code",
   "execution_count": 7,
   "id": "82414d47",
   "metadata": {},
   "outputs": [],
   "source": [
    "req_token=\"2Ai7Pvm0XJyIAYemtc5O24X61XDwExG6\""
   ]
  },
  {
   "cell_type": "code",
   "execution_count": 8,
   "id": "46224f2c",
   "metadata": {},
   "outputs": [
    {
     "name": "stdout",
     "output_type": "stream",
     "text": [
      "779c5fdee82b5c37ab4291e16b6c19afa9e6d2ffdf637a3d3c038ae00bef64f8\n"
     ]
    }
   ],
   "source": [
    "import hashlib\n",
    "\n",
    "text = API_KEY+req_token+API_SECRET\n",
    "\n",
    "m = hashlib.sha256(text.encode('UTF-8'))\n",
    "print(m.hexdigest())\n"
   ]
  },
  {
   "cell_type": "code",
   "execution_count": 9,
   "id": "77c8ec4c",
   "metadata": {},
   "outputs": [
    {
     "data": {
      "text/plain": [
       "<sha256 _hashlib.HASH object @ 0x00000155F3165C90>"
      ]
     },
     "execution_count": 9,
     "metadata": {},
     "output_type": "execute_result"
    }
   ],
   "source": [
    "hashlib.sha256(text.encode('UTF-8'))"
   ]
  },
  {
   "cell_type": "code",
   "execution_count": 10,
   "id": "6ddedc0d",
   "metadata": {},
   "outputs": [
    {
     "data": {
      "text/plain": [
       "'rfnqn5jyts2ljcq12Ai7Pvm0XJyIAYemtc5O24X61XDwExG64t8tlmijcewpoov8nayd978x7bpj4yif'"
      ]
     },
     "execution_count": 10,
     "metadata": {},
     "output_type": "execute_result"
    }
   ],
   "source": [
    "text"
   ]
  },
  {
   "cell_type": "code",
   "execution_count": 11,
   "id": "20c083c9",
   "metadata": {},
   "outputs": [
    {
     "data": {
      "text/plain": [
       "'rfnqn5jyts2ljcq1'"
      ]
     },
     "execution_count": 11,
     "metadata": {},
     "output_type": "execute_result"
    }
   ],
   "source": [
    "API_KEY"
   ]
  },
  {
   "cell_type": "code",
   "execution_count": 3,
   "id": "ee9e247c",
   "metadata": {},
   "outputs": [],
   "source": [
    "import requests as re"
   ]
  },
  {
   "cell_type": "code",
   "execution_count": 43,
   "id": "77780f84",
   "metadata": {},
   "outputs": [],
   "source": [
    "ret=re.post(ROOT_ENDPOINT+'/session/token',headers={\"X-Kite-Version\":'3'},data={'api_key':API_KEY,'request_token':req_token,\"checksum\":m.hexdigest()})"
   ]
  },
  {
   "cell_type": "code",
   "execution_count": 44,
   "id": "c1355ce3",
   "metadata": {},
   "outputs": [
    {
     "data": {
      "text/plain": [
       "{'status': 'error',\n",
       " 'message': 'Token is invalid or has expired.',\n",
       " 'data': None,\n",
       " 'error_type': 'TokenException'}"
      ]
     },
     "execution_count": 44,
     "metadata": {},
     "output_type": "execute_result"
    }
   ],
   "source": [
    "ret.json()"
   ]
  },
  {
   "cell_type": "code",
   "execution_count": 38,
   "id": "ffc82b23",
   "metadata": {},
   "outputs": [],
   "source": [
    "from pprint import pprint as pp"
   ]
  },
  {
   "cell_type": "code",
   "execution_count": 9,
   "id": "e25a4b9e",
   "metadata": {},
   "outputs": [],
   "source": [
    "orders=re.get(ROOT_ENDPOINT+\"/orders\",headers=headers).json()\n"
   ]
  },
  {
   "cell_type": "code",
   "execution_count": 10,
   "id": "0e19e9d2",
   "metadata": {},
   "outputs": [
    {
     "data": {
      "text/plain": [
       "{'status': 'error',\n",
       " 'message': 'Incorrect `api_key` or `access_token`.',\n",
       " 'data': None,\n",
       " 'error_type': 'TokenException'}"
      ]
     },
     "execution_count": 10,
     "metadata": {},
     "output_type": "execute_result"
    }
   ],
   "source": [
    "orders"
   ]
  },
  {
   "cell_type": "code",
   "execution_count": 17,
   "id": "f9c5a61e",
   "metadata": {},
   "outputs": [],
   "source": [
    "if orders['status']=='success':\n",
    "    for order in orders['data']:\n",
    "        if order['order_id']=='230314400322821':\n",
    "            print(order['average_price'],order['status'],order['exchange'],order['tradingsymbol'])\n",
    "        print('--------------------------------')\n",
    "        "
   ]
  },
  {
   "cell_type": "code",
   "execution_count": null,
   "id": "4a7b66a5",
   "metadata": {},
   "outputs": [],
   "source": []
  },
  {
   "cell_type": "code",
   "execution_count": 18,
   "id": "1218f572",
   "metadata": {},
   "outputs": [],
   "source": [
    "orders=re.get(ROOT_ENDPOINT+\"/orders\",headers=headers).json()\n",
    "if orders['status']=='success':\n",
    "    for order in orders['data']:\n",
    "        if order['order_id']==order_id:\n",
    "            print(order['average_price'],order['status'],order['exchange'],order['tradingsymbol'])\n",
    "        print('--------------------------------')\n",
    "        "
   ]
  },
  {
   "cell_type": "code",
   "execution_count": 19,
   "id": "caec09c1",
   "metadata": {},
   "outputs": [
    {
     "ename": "SyntaxError",
     "evalue": "invalid syntax (3485331626.py, line 1)",
     "output_type": "error",
     "traceback": [
      "\u001b[1;36m  Cell \u001b[1;32mIn[19], line 1\u001b[1;36m\u001b[0m\n\u001b[1;33m    curl \"https://api.kite.trade/orders\" \\\u001b[0m\n\u001b[1;37m         ^\u001b[0m\n\u001b[1;31mSyntaxError\u001b[0m\u001b[1;31m:\u001b[0m invalid syntax\n"
     ]
    }
   ],
   "source": [
    "curl \"https://api.kite.trade/orders\" \\\n",
    "    -H \"X-Kite-Version: 3\" \\\n",
    "    -H \"Authorization: token api_key:access_token\"\n"
   ]
  },
  {
   "cell_type": "code",
   "execution_count": 41,
   "id": "92e8d84d",
   "metadata": {},
   "outputs": [
    {
     "data": {
      "text/plain": [
       "{'status': 'success', 'data': []}"
      ]
     },
     "execution_count": 41,
     "metadata": {},
     "output_type": "execute_result"
    }
   ],
   "source": [
    "\n",
    "order=re.get(ROOT_ENDPOINT+\"/orders\",headers=headers).json()\n",
    "order"
   ]
  },
  {
   "cell_type": "code",
   "execution_count": 42,
   "id": "1458214f",
   "metadata": {},
   "outputs": [],
   "source": [
    "for d in order['data']:\n",
    "    print(d['order_timestamp'],d['status'],d['status_message'])"
   ]
  },
  {
   "cell_type": "code",
   "execution_count": null,
   "id": "e346a1b2",
   "metadata": {},
   "outputs": [],
   "source": []
  },
  {
   "cell_type": "raw",
   "id": "a3820800",
   "metadata": {},
   "source": [
    "order['data']"
   ]
  },
  {
   "cell_type": "code",
   "execution_count": 142,
   "id": "21e3eb7e",
   "metadata": {},
   "outputs": [],
   "source": []
  },
  {
   "cell_type": "code",
   "execution_count": null,
   "id": "4b61c5dc",
   "metadata": {},
   "outputs": [],
   "source": []
  },
  {
   "cell_type": "code",
   "execution_count": 122,
   "id": "eaa5c1ac",
   "metadata": {},
   "outputs": [
    {
     "data": {
      "text/plain": [
       "[{'placed_by': 'MD1238',\n",
       "  'order_id': '230314402615764',\n",
       "  'exchange_order_id': None,\n",
       "  'parent_order_id': None,\n",
       "  'status': 'PUT ORDER REQ RECEIVED',\n",
       "  'status_message': None,\n",
       "  'status_message_raw': None,\n",
       "  'order_timestamp': '2023-03-14 13:59:29',\n",
       "  'exchange_update_timestamp': None,\n",
       "  'exchange_timestamp': None,\n",
       "  'variety': 'regular',\n",
       "  'modified': False,\n",
       "  'exchange': 'NSE',\n",
       "  'tradingsymbol': 'ACC',\n",
       "  'instrument_token': 5633,\n",
       "  'order_type': 'LIMIT',\n",
       "  'transaction_type': 'SELL',\n",
       "  'validity': 'DAY',\n",
       "  'validity_ttl': 0,\n",
       "  'product': 'MIS',\n",
       "  'quantity': 1,\n",
       "  'disclosed_quantity': 0,\n",
       "  'price': 1800,\n",
       "  'trigger_price': 0,\n",
       "  'average_price': 0,\n",
       "  'filled_quantity': 0,\n",
       "  'pending_quantity': 1,\n",
       "  'cancelled_quantity': 0,\n",
       "  'market_protection': 0,\n",
       "  'meta': {},\n",
       "  'tag': None,\n",
       "  'guid': '31590XxRgfqwbYGWKc'},\n",
       " {'placed_by': 'MD1238',\n",
       "  'order_id': '230314402615764',\n",
       "  'exchange_order_id': None,\n",
       "  'parent_order_id': None,\n",
       "  'status': 'VALIDATION PENDING',\n",
       "  'status_message': None,\n",
       "  'status_message_raw': None,\n",
       "  'order_timestamp': '2023-03-14 13:59:29',\n",
       "  'exchange_update_timestamp': None,\n",
       "  'exchange_timestamp': None,\n",
       "  'variety': 'regular',\n",
       "  'modified': False,\n",
       "  'exchange': 'NSE',\n",
       "  'tradingsymbol': 'ACC',\n",
       "  'instrument_token': 5633,\n",
       "  'order_type': 'LIMIT',\n",
       "  'transaction_type': 'SELL',\n",
       "  'validity': 'DAY',\n",
       "  'validity_ttl': 0,\n",
       "  'product': 'MIS',\n",
       "  'quantity': 1,\n",
       "  'disclosed_quantity': 0,\n",
       "  'price': 1800,\n",
       "  'trigger_price': 0,\n",
       "  'average_price': 0,\n",
       "  'filled_quantity': 0,\n",
       "  'pending_quantity': 1,\n",
       "  'cancelled_quantity': 0,\n",
       "  'market_protection': 0,\n",
       "  'meta': {},\n",
       "  'tag': None,\n",
       "  'guid': '31590XxRgfqwbYGWKc'},\n",
       " {'placed_by': 'MD1238',\n",
       "  'order_id': '230314402615764',\n",
       "  'exchange_order_id': None,\n",
       "  'parent_order_id': None,\n",
       "  'status': 'OPEN PENDING',\n",
       "  'status_message': None,\n",
       "  'status_message_raw': None,\n",
       "  'order_timestamp': '2023-03-14 13:59:29',\n",
       "  'exchange_update_timestamp': None,\n",
       "  'exchange_timestamp': None,\n",
       "  'variety': 'regular',\n",
       "  'modified': False,\n",
       "  'exchange': 'NSE',\n",
       "  'tradingsymbol': 'ACC',\n",
       "  'instrument_token': 5633,\n",
       "  'order_type': 'LIMIT',\n",
       "  'transaction_type': 'SELL',\n",
       "  'validity': 'DAY',\n",
       "  'validity_ttl': 0,\n",
       "  'product': 'MIS',\n",
       "  'quantity': 1,\n",
       "  'disclosed_quantity': 0,\n",
       "  'price': 1800,\n",
       "  'trigger_price': 0,\n",
       "  'average_price': 0,\n",
       "  'filled_quantity': 0,\n",
       "  'pending_quantity': 1,\n",
       "  'cancelled_quantity': 0,\n",
       "  'market_protection': 0,\n",
       "  'meta': {},\n",
       "  'tag': None,\n",
       "  'guid': '31590XxRgfqwbYGWKc'},\n",
       " {'placed_by': 'MD1238',\n",
       "  'order_id': '230314402615764',\n",
       "  'exchange_order_id': '1000000020612064',\n",
       "  'parent_order_id': None,\n",
       "  'status': 'OPEN',\n",
       "  'status_message': None,\n",
       "  'status_message_raw': None,\n",
       "  'order_timestamp': '2023-03-14 13:59:29',\n",
       "  'exchange_update_timestamp': '2023-03-14 13:59:29',\n",
       "  'exchange_timestamp': '2023-03-14 13:59:29',\n",
       "  'variety': 'regular',\n",
       "  'modified': False,\n",
       "  'exchange': 'NSE',\n",
       "  'tradingsymbol': 'ACC',\n",
       "  'instrument_token': 5633,\n",
       "  'order_type': 'LIMIT',\n",
       "  'transaction_type': 'SELL',\n",
       "  'validity': 'DAY',\n",
       "  'validity_ttl': 0,\n",
       "  'product': 'MIS',\n",
       "  'quantity': 1,\n",
       "  'disclosed_quantity': 0,\n",
       "  'price': 1800,\n",
       "  'trigger_price': 0,\n",
       "  'average_price': 0,\n",
       "  'filled_quantity': 0,\n",
       "  'pending_quantity': 1,\n",
       "  'cancelled_quantity': 0,\n",
       "  'market_protection': 0,\n",
       "  'meta': {},\n",
       "  'tag': None,\n",
       "  'guid': '31590XxRgfqwbYGWKc'},\n",
       " {'placed_by': 'MD1238',\n",
       "  'order_id': '230314402615764',\n",
       "  'exchange_order_id': '1000000020612064',\n",
       "  'parent_order_id': None,\n",
       "  'status': 'MODIFY VALIDATION PENDING',\n",
       "  'status_message': None,\n",
       "  'status_message_raw': None,\n",
       "  'order_timestamp': '2023-03-14 14:02:48',\n",
       "  'exchange_update_timestamp': '2023-03-14 13:59:29',\n",
       "  'exchange_timestamp': '2023-03-14 13:59:29',\n",
       "  'variety': 'regular',\n",
       "  'modified': True,\n",
       "  'exchange': 'NSE',\n",
       "  'tradingsymbol': 'ACC',\n",
       "  'instrument_token': 5633,\n",
       "  'order_type': 'LIMIT',\n",
       "  'transaction_type': 'SELL',\n",
       "  'validity': 'DAY',\n",
       "  'validity_ttl': 0,\n",
       "  'product': 'MIS',\n",
       "  'quantity': 1,\n",
       "  'disclosed_quantity': 0,\n",
       "  'price': 1800,\n",
       "  'trigger_price': 0,\n",
       "  'average_price': 0,\n",
       "  'filled_quantity': 0,\n",
       "  'pending_quantity': 1,\n",
       "  'cancelled_quantity': 0,\n",
       "  'market_protection': 0,\n",
       "  'meta': {},\n",
       "  'tag': None,\n",
       "  'guid': '31590XxRgfqwbYGWKc'},\n",
       " {'placed_by': 'MD1238',\n",
       "  'order_id': '230314402615764',\n",
       "  'exchange_order_id': '1000000020612064',\n",
       "  'parent_order_id': None,\n",
       "  'status': 'MODIFY PENDING',\n",
       "  'status_message': None,\n",
       "  'status_message_raw': None,\n",
       "  'order_timestamp': '2023-03-14 14:02:48',\n",
       "  'exchange_update_timestamp': '2023-03-14 13:59:29',\n",
       "  'exchange_timestamp': '2023-03-14 13:59:29',\n",
       "  'variety': 'regular',\n",
       "  'modified': True,\n",
       "  'exchange': 'NSE',\n",
       "  'tradingsymbol': 'ACC',\n",
       "  'instrument_token': 5633,\n",
       "  'order_type': 'LIMIT',\n",
       "  'transaction_type': 'SELL',\n",
       "  'validity': 'DAY',\n",
       "  'validity_ttl': 0,\n",
       "  'product': 'MIS',\n",
       "  'quantity': 1,\n",
       "  'disclosed_quantity': 0,\n",
       "  'price': 1800,\n",
       "  'trigger_price': 0,\n",
       "  'average_price': 0,\n",
       "  'filled_quantity': 0,\n",
       "  'pending_quantity': 1,\n",
       "  'cancelled_quantity': 0,\n",
       "  'market_protection': 0,\n",
       "  'meta': {},\n",
       "  'tag': None,\n",
       "  'guid': '31590XxRgfqwbYGWKc'},\n",
       " {'placed_by': 'MD1238',\n",
       "  'order_id': '230314402615764',\n",
       "  'exchange_order_id': '1000000020612064',\n",
       "  'parent_order_id': None,\n",
       "  'status': 'MODIFIED',\n",
       "  'status_message': None,\n",
       "  'status_message_raw': None,\n",
       "  'order_timestamp': '2023-03-14 14:02:48',\n",
       "  'exchange_update_timestamp': '2023-03-14 14:02:48',\n",
       "  'exchange_timestamp': '2023-03-14 14:02:48',\n",
       "  'variety': 'regular',\n",
       "  'modified': False,\n",
       "  'exchange': 'NSE',\n",
       "  'tradingsymbol': 'ACC',\n",
       "  'instrument_token': 5633,\n",
       "  'order_type': 'LIMIT',\n",
       "  'transaction_type': 'SELL',\n",
       "  'validity': 'DAY',\n",
       "  'validity_ttl': 0,\n",
       "  'product': 'MIS',\n",
       "  'quantity': 1,\n",
       "  'disclosed_quantity': 0,\n",
       "  'price': 1800,\n",
       "  'trigger_price': 0,\n",
       "  'average_price': 0,\n",
       "  'filled_quantity': 0,\n",
       "  'pending_quantity': 1,\n",
       "  'cancelled_quantity': 0,\n",
       "  'market_protection': 0,\n",
       "  'meta': {},\n",
       "  'tag': None,\n",
       "  'guid': '31590XxRgfqwbYGWKc'},\n",
       " {'placed_by': 'MD1238',\n",
       "  'order_id': '230314402615764',\n",
       "  'exchange_order_id': '1000000020612064',\n",
       "  'parent_order_id': None,\n",
       "  'status': 'OPEN',\n",
       "  'status_message': None,\n",
       "  'status_message_raw': None,\n",
       "  'order_timestamp': '2023-03-14 14:02:48',\n",
       "  'exchange_update_timestamp': '2023-03-14 14:02:48',\n",
       "  'exchange_timestamp': '2023-03-14 14:02:48',\n",
       "  'variety': 'regular',\n",
       "  'modified': True,\n",
       "  'exchange': 'NSE',\n",
       "  'tradingsymbol': 'ACC',\n",
       "  'instrument_token': 5633,\n",
       "  'order_type': 'MARKET',\n",
       "  'transaction_type': 'SELL',\n",
       "  'validity': 'DAY',\n",
       "  'validity_ttl': 0,\n",
       "  'product': 'MIS',\n",
       "  'quantity': 2,\n",
       "  'disclosed_quantity': 0,\n",
       "  'price': 0,\n",
       "  'trigger_price': 0,\n",
       "  'average_price': 0,\n",
       "  'filled_quantity': 0,\n",
       "  'pending_quantity': 2,\n",
       "  'cancelled_quantity': 0,\n",
       "  'market_protection': 0,\n",
       "  'meta': {},\n",
       "  'tag': None,\n",
       "  'guid': '31590XxRgfqwbYGWKc'},\n",
       " {'placed_by': 'MD1238',\n",
       "  'order_id': '230314402615764',\n",
       "  'exchange_order_id': '1000000020612064',\n",
       "  'parent_order_id': None,\n",
       "  'status': 'COMPLETE',\n",
       "  'status_message': None,\n",
       "  'status_message_raw': None,\n",
       "  'order_timestamp': '2023-03-14 14:02:48',\n",
       "  'exchange_update_timestamp': '2023-03-14 14:02:48',\n",
       "  'exchange_timestamp': '2023-03-14 14:02:48',\n",
       "  'variety': 'regular',\n",
       "  'modified': True,\n",
       "  'exchange': 'NSE',\n",
       "  'tradingsymbol': 'ACC',\n",
       "  'instrument_token': 5633,\n",
       "  'order_type': 'MARKET',\n",
       "  'transaction_type': 'SELL',\n",
       "  'validity': 'DAY',\n",
       "  'validity_ttl': 0,\n",
       "  'product': 'MIS',\n",
       "  'quantity': 2,\n",
       "  'disclosed_quantity': 0,\n",
       "  'price': 0,\n",
       "  'trigger_price': 0,\n",
       "  'average_price': 1734.6,\n",
       "  'filled_quantity': 2,\n",
       "  'pending_quantity': 0,\n",
       "  'cancelled_quantity': 0,\n",
       "  'market_protection': 0,\n",
       "  'meta': {},\n",
       "  'tag': None,\n",
       "  'guid': '31590XxRgfqwbYGWKc'}]"
      ]
     },
     "execution_count": 122,
     "metadata": {},
     "output_type": "execute_result"
    }
   ],
   "source": [
    "order['data']"
   ]
  },
  {
   "cell_type": "code",
   "execution_count": null,
   "id": "b764b388",
   "metadata": {},
   "outputs": [],
   "source": []
  },
  {
   "cell_type": "code",
   "execution_count": null,
   "id": "5c1ce999",
   "metadata": {},
   "outputs": [],
   "source": [
    "curl https://api.kite.trade/orders/regular \\\n",
    "    -H \"X-Kite-Version: 3\" \\\n",
    "    -H \"Authorization: token api_key:access_token\" \\\n",
    "    -d \"tradingsymbol=ACC\" \\\n",
    "    -d \"exchange=NSE\" \\\n",
    "    -d \"transaction_type=BUY\" \\\n",
    "    -d \"order_type=MARKET\" \\\n",
    "    -d \"quantity=1\" \\\n",
    "    -d \"product=MIS\" \\\n",
    "    -d \"validity=DAY\"\n"
   ]
  },
  {
   "cell_type": "code",
   "execution_count": 32,
   "id": "f84703c9",
   "metadata": {},
   "outputs": [],
   "source": [
    "data={\n",
    "    \"tradingsymbol\":\"ACC\",\n",
    "    \"exchange\":\"NSE\",\n",
    "    \"transaction_type\":\"SELL\",\n",
    "    \"order_type\":\"LIMIT\",\n",
    "    \"price\":\"1800\",\n",
    "    \"quantity\":\"10000\",\n",
    "    \"product\":\"MIS\",\n",
    "    \"validity\":\"DAY\"\n",
    "    \n",
    "}"
   ]
  },
  {
   "cell_type": "code",
   "execution_count": null,
   "id": "d8619d36",
   "metadata": {},
   "outputs": [],
   "source": []
  },
  {
   "cell_type": "code",
   "execution_count": 45,
   "id": "966b0b84",
   "metadata": {},
   "outputs": [],
   "source": [
    "res=re.post('https://api.kite.trade/orders/regular',headers=headers,data=data) #PLACE ORDER"
   ]
  },
  {
   "cell_type": "code",
   "execution_count": 46,
   "id": "04828bbe",
   "metadata": {},
   "outputs": [
    {
     "data": {
      "text/plain": [
       "{'status': 'error',\n",
       " 'message': 'Markets are closed right now. Try placing an after market order (AMO). [Read more.](https://support.zerodha.com/category/trading-and-markets/kite-web-and-mobile/articles/what-is-amo-and-when-can-we-place-it)',\n",
       " 'data': None,\n",
       " 'error_type': 'InputException'}"
      ]
     },
     "execution_count": 46,
     "metadata": {},
     "output_type": "execute_result"
    }
   ],
   "source": [
    "res.json()"
   ]
  },
  {
   "cell_type": "code",
   "execution_count": null,
   "id": "0ebdb2c1",
   "metadata": {},
   "outputs": [],
   "source": []
  },
  {
   "cell_type": "code",
   "execution_count": 107,
   "id": "855b742b",
   "metadata": {},
   "outputs": [
    {
     "data": {
      "text/plain": [
       "'230314402615764'"
      ]
     },
     "execution_count": 107,
     "metadata": {},
     "output_type": "execute_result"
    }
   ],
   "source": [
    "order_id=res.json()['data']['order_id']\n",
    "order_id"
   ]
  },
  {
   "cell_type": "code",
   "execution_count": 108,
   "id": "e07bc7ad",
   "metadata": {},
   "outputs": [],
   "source": [
    "orders=re.get(ROOT_ENDPOINT+\"/orders\",headers=headers).json()\n"
   ]
  },
  {
   "cell_type": "code",
   "execution_count": 109,
   "id": "6e1f66e9",
   "metadata": {},
   "outputs": [
    {
     "name": "stdout",
     "output_type": "stream",
     "text": [
      "0 OPEN NSE ACC\n"
     ]
    }
   ],
   "source": [
    "for order in orders['data']:\n",
    "    if order['order_id']==order_id:\n",
    "        print(order['average_price'],order['status'],order['exchange'],order['tradingsymbol'])\n"
   ]
  },
  {
   "cell_type": "code",
   "execution_count": null,
   "id": "39d57f42",
   "metadata": {},
   "outputs": [],
   "source": []
  },
  {
   "cell_type": "code",
   "execution_count": 110,
   "id": "87bb079a",
   "metadata": {},
   "outputs": [],
   "source": [
    "data={\"order_type\":\"MARKET\",\"quantity\":\"2\",'validity':\"DAY\"}"
   ]
  },
  {
   "cell_type": "code",
   "execution_count": 111,
   "id": "88b16903",
   "metadata": {},
   "outputs": [],
   "source": [
    "res=re.put('https://api.kite.trade/orders/regular/'+order_id,headers=headers,data=data) #PLACE ORDER"
   ]
  },
  {
   "cell_type": "code",
   "execution_count": null,
   "id": "95543551",
   "metadata": {},
   "outputs": [],
   "source": [
    "curl --request PUT https://api.kite.trade/orders/regular/151220000000000 \\\n",
    "    -H \"X-Kite-Version: 3\" \\\n",
    "    -H \"Authorization: token api_key:access_token\" \\\n",
    "    -d \"order_type=MARKET\" \\\n",
    "    -d \"quantity=3\" \\\n",
    "    -d \"validity=DAY\"\n"
   ]
  },
  {
   "cell_type": "code",
   "execution_count": null,
   "id": "c0e2caa8",
   "metadata": {},
   "outputs": [],
   "source": [
    "curl --request PUT https://api.kite.trade/orders/regular/151220000000000 \\\n",
    "    -H \"X-Kite-Version: 3\" \\\n",
    "    -H \"Authorization: token api_key:access_token\" \\\n",
    "    -d \"order_type=MARKET\" \\\n",
    "    -d \"quantity=3\" \\\n",
    "    -d \"validity=DAY\"\n"
   ]
  },
  {
   "cell_type": "code",
   "execution_count": null,
   "id": "1de89850",
   "metadata": {},
   "outputs": [],
   "source": []
  },
  {
   "cell_type": "code",
   "execution_count": null,
   "id": "3f80ad5f",
   "metadata": {},
   "outputs": [],
   "source": []
  },
  {
   "cell_type": "code",
   "execution_count": null,
   "id": "836bcdff",
   "metadata": {},
   "outputs": [],
   "source": []
  },
  {
   "cell_type": "code",
   "execution_count": null,
   "id": "4ee2b889",
   "metadata": {},
   "outputs": [],
   "source": []
  },
  {
   "cell_type": "code",
   "execution_count": null,
   "id": "93a69eef",
   "metadata": {},
   "outputs": [],
   "source": []
  },
  {
   "cell_type": "code",
   "execution_count": 49,
   "id": "2649f21b",
   "metadata": {},
   "outputs": [],
   "source": [
    "\n",
    "\n",
    "\n",
    "orders=re.get(ROOT_ENDPOINT+\"/orders\",headers=headers).json()\n",
    "if orders['status']=='success':\n",
    "    for order in orders['data']:\n",
    "        if order['order_id']==order_id:\n",
    "            print(order['average_price'],order['status'],order['exchange'],order['tradingsymbol'])\n",
    "        "
   ]
  },
  {
   "cell_type": "code",
   "execution_count": 48,
   "id": "cb9ce5c6",
   "metadata": {},
   "outputs": [
    {
     "ename": "SyntaxError",
     "evalue": "invalid syntax (221378997.py, line 1)",
     "output_type": "error",
     "traceback": [
      "\u001b[1;36m  Cell \u001b[1;32mIn[48], line 1\u001b[1;36m\u001b[0m\n\u001b[1;33m    curl \"https://api.kite.trade/portfolio/positions\" \\\u001b[0m\n\u001b[1;37m         ^\u001b[0m\n\u001b[1;31mSyntaxError\u001b[0m\u001b[1;31m:\u001b[0m invalid syntax\n"
     ]
    }
   ],
   "source": [
    "curl \"https://api.kite.trade/portfolio/positions\" \\\n",
    "    -H \"X-Kite-Version: 3\" \\\n",
    "    -H \"Authorization: token api_key:access_token\"\n"
   ]
  },
  {
   "cell_type": "code",
   "execution_count": 139,
   "id": "44bdf3a4",
   "metadata": {},
   "outputs": [],
   "source": [
    "res=re.get('https://api.kite.trade/portfolio/positions',headers=headers)"
   ]
  },
  {
   "cell_type": "code",
   "execution_count": 90,
   "id": "107bb0dc",
   "metadata": {},
   "outputs": [
    {
     "name": "stdout",
     "output_type": "stream",
     "text": [
      "1\n"
     ]
    }
   ],
   "source": [
    "pos=res.json()['data']['day']\n",
    "pos\n",
    "\n",
    "for po in pos:\n",
    "    if po['tradingsymbol']=='ACC':\n",
    "        print(po['quantity'])\n",
    "        \n",
    "\n"
   ]
  },
  {
   "cell_type": "code",
   "execution_count": 140,
   "id": "f4cc613e",
   "metadata": {},
   "outputs": [],
   "source": [
    "pos=res.json()"
   ]
  },
  {
   "cell_type": "code",
   "execution_count": null,
   "id": "961565ca",
   "metadata": {},
   "outputs": [],
   "source": []
  }
 ],
 "metadata": {
  "kernelspec": {
   "display_name": "Python 3 (ipykernel)",
   "language": "python",
   "name": "python3"
  },
  "language_info": {
   "codemirror_mode": {
    "name": "ipython",
    "version": 3
   },
   "file_extension": ".py",
   "mimetype": "text/x-python",
   "name": "python",
   "nbconvert_exporter": "python",
   "pygments_lexer": "ipython3",
   "version": "3.10.2"
  }
 },
 "nbformat": 4,
 "nbformat_minor": 5
}
