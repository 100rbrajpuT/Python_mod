{
 "cells": [
  {
   "cell_type": "code",
   "execution_count": 2,
   "id": "6eb2a107",
   "metadata": {},
   "outputs": [
    {
     "data": {
      "text/plain": [
       "20"
      ]
     },
     "execution_count": 2,
     "metadata": {},
     "output_type": "execute_result"
    }
   ],
   "source": [
    "x  = lambda a:a+10\n",
    "x(10)\n"
   ]
  },
  {
   "cell_type": "code",
   "execution_count": 17,
   "id": "554e0c20",
   "metadata": {},
   "outputs": [],
   "source": [
    "import datetime\n",
    "import pandas as pd\n",
    "import requests as re\n",
    "from pprint import pprint as pp"
   ]
  },
  {
   "cell_type": "code",
   "execution_count": 18,
   "id": "52b5508e",
   "metadata": {},
   "outputs": [],
   "source": [
    "def getData(token, fromm, to, time_frame):\n",
    "    \n",
    "    data=re.get(f\"https://api.kite.trade/instruments/historical/{token}/{time_frame}?from={fromm}&to={to}\",headers=headers)\n",
    "#     print(\"data-->\", data.json())\n",
    "    df=pd.DataFrame(data.json()['data']['candles'])\n",
    "    df.columns = [\"Timestamp\", \"open\", \"high\", \"low\",\"close\",\"volume\"]\n",
    "\n",
    "    return SuperTrend(df).iloc[-1]"
   ]
  },
  {
   "cell_type": "code",
   "execution_count": 19,
   "id": "aca5e68f",
   "metadata": {},
   "outputs": [],
   "source": [
    "def SuperTrend(data, period = 10, multiplier=3, ohlc=['open', 'high', 'low', 'close']):\n",
    "        global supertrend\n",
    "        data['tr0'] = abs(data[\"high\"] - data[\"low\"])\n",
    "        data['tr1'] = abs(data[\"high\"] - data[\"close\"].shift(1))\n",
    "        data['tr2'] = abs(data[\"low\"]- data[\"close\"].shift(1))\n",
    "        data[\"TR\"] = round(data[['tr0', 'tr1', 'tr2']].max(axis=1),2)\n",
    "        data[\"ATR\"]=0.00\n",
    "        data['BUB']=0.00\n",
    "        data[\"BLB\"]=0.00\n",
    "        data[\"final_ub\"]=0.00\n",
    "        data[\"final_lb\"]=0.00\n",
    "        data[\"ST\"]=0.00\n",
    "        for i, row in data.iterrows():\n",
    "            if i == 0:\n",
    "                data.loc[i,'ATR'] = 0.00#data['ATR'].iat[0]\n",
    "            else:\n",
    "                data.loc[i,'ATR'] = ((data.loc[i-1,'ATR'] * (period-1))+data.loc[i,'TR'])/period\n",
    "        data['BUB'] = round(((data[\"high\"] + data[\"low\"]) / 2) + (multiplier * data[\"ATR\"]),2)\n",
    "        data['BLB'] = round(((data[\"high\"] + data[\"low\"]) / 2) - (multiplier * data[\"ATR\"]),2)\n",
    "        for i, row in data.iterrows():\n",
    "            if i==0:\n",
    "                data.loc[i,\"final_ub\"]=0.00\n",
    "            else:\n",
    "                if (data.loc[i,\"BUB\"]<data.loc[i-1,\"final_ub\"])|(data.loc[i-1,\"close\"]>data.loc[i-1,\"final_ub\"]):\n",
    "                    data.loc[i,\"final_ub\"]=data.loc[i,\"BUB\"]\n",
    "                else:\n",
    "                    data.loc[i,\"final_ub\"]=data.loc[i-1,\"final_ub\"]\n",
    "\n",
    "        for i, row in data.iterrows():\n",
    "            if i==0:\n",
    "                data.loc[i,\"final_lb\"]=0.00\n",
    "            else:\n",
    "                if (data.loc[i,\"BLB\"]>data.loc[i-1,\"final_lb\"])|(data.loc[i-1,\"close\"]<data.loc[i-1,\"final_lb\"]):\n",
    "                    data.loc[i,\"final_lb\"]=data.loc[i,\"BLB\"]\n",
    "                else:\n",
    "                    data.loc[i,\"final_lb\"]=data.loc[i-1,\"final_lb\"]\n",
    "\n",
    "        for i, row in data.iterrows():\n",
    "            if i==0:\n",
    "                data.loc[i,\"ST\"]=0.00\n",
    "            elif (data.loc[i-1,\"ST\"]==data.loc[i-1,\"final_ub\"]) & (data.loc[i,\"close\"]<=data.loc[i,\"final_ub\"]):\n",
    "                data.loc[i,\"ST\"]=data.loc[i,\"final_ub\"]\n",
    "            elif (data.loc[i-1,\"ST\"]==data.loc[i-1,\"final_ub\"])&(data.loc[i,\"close\"]>data.loc[i,\"final_ub\"]):\n",
    "                data.loc[i,\"ST\"]=data.loc[i,\"final_lb\"]\n",
    "            elif (data.loc[i-1,\"ST\"]==data.loc[i-1,\"final_lb\"])&(data.loc[i,\"close\"]>=data.loc[i,\"final_lb\"]):\n",
    "                data.loc[i,\"ST\"]=data.loc[i,\"final_lb\"]\n",
    "            elif (data.loc[i-1,\"ST\"]==data.loc[i-1,\"final_lb\"])&(data.loc[i,\"close\"]<data.loc[i,\"final_lb\"]):\n",
    "                data.loc[i,\"ST\"]=data.loc[i,\"final_ub\"]\n",
    "\n",
    "        # Buy Sell Indicator\n",
    "        for i, row in data.iterrows():\n",
    "            if i==0:\n",
    "                data[\"STX\"]=\"NA\"\n",
    "            elif (data.loc[i,\"ST\"]<data.loc[i,\"close\"]) :\n",
    "                data.loc[i,\"STX\"]=\"green\"\n",
    "            else:\n",
    "                data.loc[i,\"STX\"]=\"red\"\n",
    "        data.drop(['tr0', 'tr1', 'tr2', 'TR','BUB', 'BLB'], inplace=True, axis=1)\n",
    "        return data"
   ]
  },
  {
   "cell_type": "code",
   "execution_count": null,
   "id": "74b8dfab",
   "metadata": {},
   "outputs": [
    {
     "name": "stdout",
     "output_type": "stream",
     "text": [
      "running 2023-03-29 15:37:00.186782 2023-03-29T15:30:00+0530 2023-03-29T15:30:00+0530 3326.0 3326.0 3325.45 3325.45 25 3337.53 red side=sell qty=1 change=True\n",
      "running 2023-03-29 15:37:28.593598 2023-03-29T15:30:00+0530 2023-03-29T15:30:00+0530 3326.0 3326.0 3325.45 3325.45 25 3337.53 red side=sell qty=2 change=False\n",
      "2023-03-29 15:37:28.595590,('2023-03-29T15:30:00+0530', '2023-03-29T15:30:00+0530'),3326.0,3326.0,3325.45,3325.45,25,3337.53,red,side=sell,qty=2,change=False\n",
      "running 2023-03-29 15:37:54.849345 2023-03-29T15:30:00+0530 2023-03-29T15:30:00+0530 3326.0 3326.0 3325.45 3325.45 25 3337.53 red side=sell qty=2 change=False\n",
      "2023-03-29 15:37:54.850343,('2023-03-29T15:30:00+0530', '2023-03-29T15:30:00+0530'),3326.0,3326.0,3325.45,3325.45,25,3337.53,red,side=sell,qty=2,change=False\n",
      "running 2023-03-29 15:38:27.955772 2023-03-29T15:30:00+0530 2023-03-29T15:30:00+0530 3326.0 3326.0 3325.45 3325.45 25 3337.53 red side=sell qty=2 change=False\n",
      "2023-03-29 15:38:27.957765,('2023-03-29T15:30:00+0530', '2023-03-29T15:30:00+0530'),3326.0,3326.0,3325.45,3325.45,25,3337.53,red,side=sell,qty=2,change=False\n",
      "running 2023-03-29 15:38:56.532962 2023-03-29T15:30:00+0530 2023-03-29T15:30:00+0530 3326.0 3326.0 3325.45 3325.45 25 3337.53 red side=sell qty=2 change=False\n",
      "2023-03-29 15:38:56.534963,('2023-03-29T15:30:00+0530', '2023-03-29T15:30:00+0530'),3326.0,3326.0,3325.45,3325.45,25,3337.53,red,side=sell,qty=2,change=False\n",
      "running 2023-03-29 15:39:23.895903 2023-03-29T15:30:00+0530 2023-03-29T15:30:00+0530 3326.0 3326.0 3325.45 3325.45 25 3337.53 red side=sell qty=2 change=False\n",
      "2023-03-29 15:39:23.897889,('2023-03-29T15:30:00+0530', '2023-03-29T15:30:00+0530'),3326.0,3326.0,3325.45,3325.45,25,3337.53,red,side=sell,qty=2,change=False\n",
      "running 2023-03-29 15:39:53.422947 2023-03-29T15:30:00+0530 2023-03-29T15:30:00+0530 3326.0 3326.0 3325.45 3325.45 25 3337.53 red side=sell qty=2 change=False\n",
      "2023-03-29 15:39:53.424941,('2023-03-29T15:30:00+0530', '2023-03-29T15:30:00+0530'),3326.0,3326.0,3325.45,3325.45,25,3337.53,red,side=sell,qty=2,change=False\n",
      "running 2023-03-29 15:40:37.572014 2023-03-29T15:30:00+0530 2023-03-29T15:30:00+0530 3326.0 3326.0 3325.45 3325.45 25 3337.53 red side=sell qty=2 change=False\n",
      "2023-03-29 15:40:37.602930,('2023-03-29T15:30:00+0530', '2023-03-29T15:30:00+0530'),3326.0,3326.0,3325.45,3325.45,25,3337.53,red,side=sell,qty=2,change=False\n",
      "running 2023-03-29 15:46:18.793576 2023-03-29T15:30:00+0530 2023-03-29T15:30:00+0530 3326.0 3326.0 3325.45 3325.45 25 3337.53 red side=sell qty=2 change=False\n",
      "2023-03-29 15:46:18.843980,('2023-03-29T15:30:00+0530', '2023-03-29T15:30:00+0530'),3326.0,3326.0,3325.45,3325.45,25,3337.53,red,side=sell,qty=2,change=False\n",
      "running 2023-03-29 15:46:29.486722 2023-03-29T15:42:00+0530 2023-03-29T15:42:00+0530 3325.45 3325.45 3325.45 3325.45 12 3337.53 red side=sell qty=2 change=False\n",
      "2023-03-29 15:46:29.487718,('2023-03-29T15:42:00+0530', '2023-03-29T15:42:00+0530'),3325.45,3325.45,3325.45,3325.45,12,3337.53,red,side=sell,qty=2,change=False\n",
      "running 2023-03-29 15:48:10.899872 2023-03-29T15:45:00+0530 2023-03-29T15:45:00+0530 3325.45 3325.45 3325.45 3325.45 0 3337.53 red side=sell qty=2 change=False\n",
      "2023-03-29 15:48:10.902818,('2023-03-29T15:45:00+0530', '2023-03-29T15:45:00+0530'),3325.45,3325.45,3325.45,3325.45,0,3337.53,red,side=sell,qty=2,change=False\n",
      "running 2023-03-29 15:51:11.488228 2023-03-29T15:48:00+0530 2023-03-29T15:48:00+0530 3325.45 3325.45 3325.45 3325.45 0 3337.08 red side=sell qty=2 change=False\n",
      "2023-03-29 15:51:11.489226,('2023-03-29T15:48:00+0530', '2023-03-29T15:48:00+0530'),3325.45,3325.45,3325.45,3325.45,0,3337.08,red,side=sell,qty=2,change=False\n",
      "running 2023-03-29 15:54:12.711398 2023-03-29T15:51:00+0530 2023-03-29T15:51:00+0530 3325.45 3325.45 3325.45 3325.45 100 3335.91 red side=sell qty=2 change=False\n",
      "2023-03-29 15:54:12.717691,('2023-03-29T15:51:00+0530', '2023-03-29T15:51:00+0530'),3325.45,3325.45,3325.45,3325.45,100,3335.91,red,side=sell,qty=2,change=False\n"
     ]
    }
   ],
   "source": [
    "from dateutil import parser\n",
    "import requests as re\n",
    "API_KEY=\"rfnqn5jyts2ljcq1\"\n",
    "# RUBbPfsVE3sbiBpIk109eAY4L8cOvdnv\n",
    "# VkjKYp51T2TgvvHNPukdY5K2gRttR3W7\n",
    "ACCESS_TOKEN=\"rRjwyzwgavBLRSbmiO6TTGPnXbrs9jxx\"\n",
    "headers={\"X-Kite-Version\":'3','Authorization':\"token \"+API_KEY+\":\"+ACCESS_TOKEN}\n",
    "ROOT_ENDPOINT=\"https://api.kite.trade\"\n",
    "API_SECRET=\"4t8tlmijcewpoov8nayd978x7bpj4yif\"\n",
    "\n",
    "\n",
    "\n",
    "interval=3\n",
    "import datetime,time\n",
    "\n",
    "from_date = datetime.datetime.now()-datetime.timedelta(days=90)\n",
    "to_date = datetime.datetime.now()-datetime.timedelta(minutes=interval)\n",
    "if interval==1:\n",
    "    time_frame = 'minute'\n",
    "    \n",
    "else:\n",
    "    time_frame = str(interval)+'minute'\n",
    "    \n",
    "last_row = getData(5097729,from_date, to_date, time_frame )\n",
    "last_time=last_row.Timestamp\n",
    "last_signal=last_row.STX\n",
    "print('running',datetime.datetime.now(),last_time,last_row.Timestamp,last_row.open,last_row.high,last_row.low,last_row.close,last_row.volume,last_row.ST,last_row.STX,'side=sell'if last_row.STX=='red' else 'side=buy','qty=1','change=True')\n",
    "#         adding data in file here\n",
    "f = open(\"marketData.txt\", \"a\")\n",
    "d = f\"{datetime.datetime.now()},{last_time,last_row.Timestamp},{last_row.open},{last_row.high},{last_row.low},{last_row.close},{last_row.volume},{last_row.ST},{last_row.STX},{'side=sell'if last_row.STX=='red' else 'side=buy'},{'qty=2'},{'change=True' if last_row.STX!=last_signal else 'change=False'}\"\n",
    "f.write(d)\n",
    "# f.write(f\"{datetime.datetime.now()},{last_time,last_row.Timestamp},{last_row.open},{last_row.high},{last_row.low},{last_row.close},{last_row.volume},{last_row.ST},{last_row.STX},{'side=sell'if last_row.STX=='red' else 'side=buy'},{'qty=2'},{'change=True' if last_row.STX!=last_signal else 'change=False'}\")\n",
    "# order_plc =  place_order(ROOT_ENDPOINT,headers,\"NSE\",\"ICICIBANK\",1000,'SELL'if last_row.STX=='red' else 'BUY')\n",
    "# print(order_plc)\n",
    "\n",
    "# running 2023-03-24 13:58:41.163117 2023-03-24T13:54:00+0530 3357.65 3359.65 3355.3 3357.8 424 3367.48 red side=sell qty 1or2 change=True\n",
    "\n",
    "while True:\n",
    "    time.sleep(1)\n",
    "    if str(parser.parse(last_time.replace(\"T\",\" \"))+datetime.timedelta(minutes=interval*2))<str(datetime.datetime.now()):\n",
    "        \n",
    "        from_date = datetime.datetime.now()-datetime.timedelta(days=90)\n",
    "        to_date = datetime.datetime.now()-datetime.timedelta(minutes=interval)\n",
    "        last_row = getData(5097729,from_date, to_date, time_frame )\n",
    "        last_time=last_row.Timestamp\n",
    "        print('running',datetime.datetime.now(),last_time,last_row.Timestamp,last_row.open,last_row.high,last_row.low,last_row.close,last_row.volume,last_row.ST,last_row.STX,'side=sell'if last_row.STX=='red' else 'side=buy','qty=2','change=True' if last_row.STX!=last_signal else 'change=False')\n",
    "#         adding data in file here\n",
    "        f = open(\"marketData.txt\", \"a\")\n",
    "        d = f\"{datetime.datetime.now()},{last_time,last_row.Timestamp},{last_row.open},{last_row.high},{last_row.low},{last_row.close},{last_row.volume},{last_row.ST},{last_row.STX},{'side=sell'if last_row.STX=='red' else 'side=buy'},{'qty=2'},{'change=True' if last_row.STX!=last_signal else 'change=False'}\"\n",
    "        f.write(d)\n",
    "        print(f\"{datetime.datetime.now()},{last_time,last_row.Timestamp},{last_row.open},{last_row.high},{last_row.low},{last_row.close},{last_row.volume},{last_row.ST},{last_row.STX},{'side=sell'if last_row.STX=='red' else 'side=buy'},{'qty=2'},{'change=True' if last_row.STX!=last_signal else 'change=False'}\")\n",
    "\n",
    "        last_signal=last_row.STX\n",
    "        if last_row.STX!=last_signal:\n",
    "            print(\"order called\")\n",
    "            order_plc =  place_order(ROOT_ENDPOINT,headers,\"NSE\",\"ICICIBANK\",1000,'SELL'if last_row.STX=='red' else 'BUY')\n",
    "            print(order_plc)\n",
    "\n",
    "        #         if stx=\"red\":\n",
    "#             print(\"side=sell\")\n",
    "#             else:\n",
    "#                 print(\"side=buy\")"
   ]
  },
  {
   "cell_type": "code",
   "execution_count": null,
   "id": "3698fe32",
   "metadata": {},
   "outputs": [],
   "source": []
  },
  {
   "cell_type": "code",
   "execution_count": null,
   "id": "be786c4a",
   "metadata": {},
   "outputs": [],
   "source": []
  },
  {
   "cell_type": "code",
   "execution_count": null,
   "id": "f488ceff",
   "metadata": {},
   "outputs": [],
   "source": [
    "def place_order(ROOT_ENDPOINT,headers,ex,tr_symbl,qty,transation ):\n",
    "    data={\n",
    "    \"tradingsymbol\":tr_symbl,\n",
    "    \"exchange\":ex,\n",
    "    \"transaction_type\":transation,\n",
    "    \"order_type\":\"MARKET\",\n",
    "    \"quantity\":qty,\n",
    "    \"product\":\"CNC\",\n",
    "    \"validity\":\"DAY\"\n",
    "    }\n",
    "#order_plc =  place_order(ROOT_ENDPOINT,headers,\"NSE\",\"ICICIBANK\",2,'sell'if last_row.STX=='red' else 'buy')\n",
    "\n",
    "    order_plc=re.post(ROOT_ENDPOINT+'/orders/regular',headers=headers,data=data)\n",
    "    print(\"fun called\")\n",
    "    order_id = order_plc.json()['data']['order_id']\n",
    "    orders=re.get(ROOT_ENDPOINT+\"/orders\",headers=headers).json()\n",
    "    for order in orders['data']:\n",
    "        if order['order_id']==order_id:\n",
    "            print(order['average_price'],order['status'],order['exchange'],order['tradingsymbol'],order['status_message'] )\n",
    "            #         adding data in file here\n",
    "            f = open(\"marketData.txt\", \"a\")\n",
    "            d = f\"{datetime.datetime.now()},{last_time,last_row.Timestamp},{last_row.open},{last_row.high},{last_row.low},{last_row.close},{last_row.volume},{last_row.ST},{last_row.STX},{'side=sell'if last_row.STX=='red' else 'side=buy'},{'qty=2'},{'change=True' if last_row.STX!=last_signal else 'change=False'}\"\n",
    "            f.write(d)\n",
    "        print('--------------------------------')\n",
    "      \n",
    "#     print(\"code ran\")\n",
    "#     return res\n",
    "    "
   ]
  },
  {
   "cell_type": "code",
   "execution_count": null,
   "id": "931650a4",
   "metadata": {},
   "outputs": [],
   "source": [
    "order_plc =  place_order(ROOT_ENDPOINT,headers,\"NSE\",\"ICICIBANK\",2,'SELL'if last_row.STX=='red' else 'BUY')"
   ]
  },
  {
   "cell_type": "code",
   "execution_count": null,
   "id": "05fb6c03",
   "metadata": {},
   "outputs": [],
   "source": [
    "order_plc"
   ]
  },
  {
   "cell_type": "code",
   "execution_count": 34,
   "id": "4e7297b8",
   "metadata": {},
   "outputs": [],
   "source": [
    "d = f\"{datetime.datetime.now()},{last_time,last_row.Timestamp},{last_row.open},{last_row.high},{last_row.low},{last_row.close},{last_row.volume},{last_row.ST},{last_row.STX},{'side=sell'if last_row.STX=='red' else 'side=buy'},{'qty=2'},{'change=True' if last_row.STX!=last_signal else 'change=False'}\"\n"
   ]
  },
  {
   "cell_type": "code",
   "execution_count": 35,
   "id": "423291dc",
   "metadata": {},
   "outputs": [
    {
     "data": {
      "text/plain": [
       "\"2023-03-29 15:28:52.474571,('2023-03-29T15:18:00+0530', '2023-03-29T15:18:00+0530'),3325.85,3327.25,3315.0,3320.0,12819,3338.01,red,side=sell,qty=2,change=False\""
      ]
     },
     "execution_count": 35,
     "metadata": {},
     "output_type": "execute_result"
    }
   ],
   "source": [
    "d"
   ]
  },
  {
   "cell_type": "code",
   "execution_count": null,
   "id": "64ddda93",
   "metadata": {},
   "outputs": [],
   "source": []
  }
 ],
 "metadata": {
  "kernelspec": {
   "display_name": "Python 3 (ipykernel)",
   "language": "python",
   "name": "python3"
  },
  "language_info": {
   "codemirror_mode": {
    "name": "ipython",
    "version": 3
   },
   "file_extension": ".py",
   "mimetype": "text/x-python",
   "name": "python",
   "nbconvert_exporter": "python",
   "pygments_lexer": "ipython3",
   "version": "3.10.2"
  }
 },
 "nbformat": 4,
 "nbformat_minor": 5
}
