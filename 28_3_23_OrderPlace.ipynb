{
 "cells": [
  {
   "cell_type": "code",
   "execution_count": 1,
   "id": "77758416",
   "metadata": {},
   "outputs": [],
   "source": [
    "import datetime\n",
    "import pandas as pd"
   ]
  },
  {
   "cell_type": "code",
   "execution_count": 2,
   "id": "9c2675d8",
   "metadata": {},
   "outputs": [],
   "source": [
    "import requests as re\n",
    "from pprint import pprint as pp"
   ]
  },
  {
   "cell_type": "code",
   "execution_count": 24,
   "id": "b081cf44",
   "metadata": {},
   "outputs": [],
   "source": [
    "def getData(token, fromm, to, time_frame):\n",
    "    \n",
    "    data=re.get(f\"https://api.kite.trade/instruments/historical/{token}/{time_frame}?from={fromm}&to={to}\",headers=headers)\n",
    "#     print(\"data-->\", data.json())\n",
    "    df=pd.DataFrame(data.json()['data']['candles'])\n",
    "    df.columns = [\"Timestamp\", \"open\", \"high\", \"low\",\"close\",\"volume\"]\n",
    "\n",
    "    return SuperTrend(df).iloc[-1]"
   ]
  },
  {
   "cell_type": "code",
   "execution_count": 25,
   "id": "18952f4d",
   "metadata": {},
   "outputs": [],
   "source": [
    "def SuperTrend(data, period = 10, multiplier=3, ohlc=['open', 'high', 'low', 'close']):\n",
    "        global supertrend\n",
    "        data['tr0'] = abs(data[\"high\"] - data[\"low\"])\n",
    "        data['tr1'] = abs(data[\"high\"] - data[\"close\"].shift(1))\n",
    "        data['tr2'] = abs(data[\"low\"]- data[\"close\"].shift(1))\n",
    "        data[\"TR\"] = round(data[['tr0', 'tr1', 'tr2']].max(axis=1),2)\n",
    "        data[\"ATR\"]=0.00\n",
    "        data['BUB']=0.00\n",
    "        data[\"BLB\"]=0.00\n",
    "        data[\"final_ub\"]=0.00\n",
    "        data[\"final_lb\"]=0.00\n",
    "        data[\"ST\"]=0.00\n",
    "        for i, row in data.iterrows():\n",
    "            if i == 0:\n",
    "                data.loc[i,'ATR'] = 0.00#data['ATR'].iat[0]\n",
    "            else:\n",
    "                data.loc[i,'ATR'] = ((data.loc[i-1,'ATR'] * (period-1))+data.loc[i,'TR'])/period\n",
    "        data['BUB'] = round(((data[\"high\"] + data[\"low\"]) / 2) + (multiplier * data[\"ATR\"]),2)\n",
    "        data['BLB'] = round(((data[\"high\"] + data[\"low\"]) / 2) - (multiplier * data[\"ATR\"]),2)\n",
    "        for i, row in data.iterrows():\n",
    "            if i==0:\n",
    "                data.loc[i,\"final_ub\"]=0.00\n",
    "            else:\n",
    "                if (data.loc[i,\"BUB\"]<data.loc[i-1,\"final_ub\"])|(data.loc[i-1,\"close\"]>data.loc[i-1,\"final_ub\"]):\n",
    "                    data.loc[i,\"final_ub\"]=data.loc[i,\"BUB\"]\n",
    "                else:\n",
    "                    data.loc[i,\"final_ub\"]=data.loc[i-1,\"final_ub\"]\n",
    "\n",
    "        for i, row in data.iterrows():\n",
    "            if i==0:\n",
    "                data.loc[i,\"final_lb\"]=0.00\n",
    "            else:\n",
    "                if (data.loc[i,\"BLB\"]>data.loc[i-1,\"final_lb\"])|(data.loc[i-1,\"close\"]<data.loc[i-1,\"final_lb\"]):\n",
    "                    data.loc[i,\"final_lb\"]=data.loc[i,\"BLB\"]\n",
    "                else:\n",
    "                    data.loc[i,\"final_lb\"]=data.loc[i-1,\"final_lb\"]\n",
    "\n",
    "        for i, row in data.iterrows():\n",
    "            if i==0:\n",
    "                data.loc[i,\"ST\"]=0.00\n",
    "            elif (data.loc[i-1,\"ST\"]==data.loc[i-1,\"final_ub\"]) & (data.loc[i,\"close\"]<=data.loc[i,\"final_ub\"]):\n",
    "                data.loc[i,\"ST\"]=data.loc[i,\"final_ub\"]\n",
    "            elif (data.loc[i-1,\"ST\"]==data.loc[i-1,\"final_ub\"])&(data.loc[i,\"close\"]>data.loc[i,\"final_ub\"]):\n",
    "                data.loc[i,\"ST\"]=data.loc[i,\"final_lb\"]\n",
    "            elif (data.loc[i-1,\"ST\"]==data.loc[i-1,\"final_lb\"])&(data.loc[i,\"close\"]>=data.loc[i,\"final_lb\"]):\n",
    "                data.loc[i,\"ST\"]=data.loc[i,\"final_lb\"]\n",
    "            elif (data.loc[i-1,\"ST\"]==data.loc[i-1,\"final_lb\"])&(data.loc[i,\"close\"]<data.loc[i,\"final_lb\"]):\n",
    "                data.loc[i,\"ST\"]=data.loc[i,\"final_ub\"]\n",
    "\n",
    "        # Buy Sell Indicator\n",
    "        for i, row in data.iterrows():\n",
    "            if i==0:\n",
    "                data[\"STX\"]=\"NA\"\n",
    "            elif (data.loc[i,\"ST\"]<data.loc[i,\"close\"]) :\n",
    "                data.loc[i,\"STX\"]=\"green\"\n",
    "            else:\n",
    "                data.loc[i,\"STX\"]=\"red\"\n",
    "        data.drop(['tr0', 'tr1', 'tr2', 'TR','BUB', 'BLB'], inplace=True, axis=1)\n",
    "        return data"
   ]
  },
  {
   "cell_type": "code",
   "execution_count": 33,
   "id": "b732085c",
   "metadata": {},
   "outputs": [],
   "source": [
    "def place_order(ROOT_ENDPOINT,headers,ex,tr_symbl,qty,transation ):\n",
    "    data={\n",
    "    \"tradingsymbol\":tr_sybml,\n",
    "    \"exchange\":ex,\n",
    "    \"transaction_type\":transation,\n",
    "    \"order_type\":\"LIMIT\",\n",
    "    \"price\":\"1800\",\n",
    "    \"quantity\":qty,\n",
    "    \"product\":\"MIS\",\n",
    "    \"validity\":\"DAY\"\n",
    "    }\n",
    "#order_plc =  place_order(ROOT_ENDPOINT,headers,\"NSE\",\"ICICIBANK\",2,'sell'if last_row.STX=='red' else 'buy')\n",
    "\n",
    "    res=re.post(ROOT_ENDPOINT+'/orders/regular',headers=headers,data=data)\n",
    "    print(\"order successful\")\n",
    "    return res\n",
    "    "
   ]
  },
  {
   "cell_type": "code",
   "execution_count": 31,
   "id": "ce69658a",
   "metadata": {},
   "outputs": [
    {
     "name": "stdout",
     "output_type": "stream",
     "text": [
      "running 2023-03-28 13:20:36.855772 2023-03-28T13:15:00+0530 2023-03-28T13:15:00+0530 3321.7 3323.0 3321.0 3322.0 283 3318.95 green side=buy qty=1 change=True\n",
      "running 2023-03-28 13:21:11.562088 2023-03-28T13:18:00+0530 2023-03-28T13:18:00+0530 3322.0 3322.0 3320.0 3321.95 82 3318.95 green side=buy qty=2 change=False\n",
      "running 2023-03-28 13:24:12.107682 2023-03-28T13:21:00+0530 2023-03-28T13:21:00+0530 3321.0 3321.0 3320.05 3321.0 87 3318.95 green side=buy qty=2 change=False\n",
      "running 2023-03-28 13:27:11.629376 2023-03-28T13:24:00+0530 2023-03-28T13:24:00+0530 3318.85 3318.9 3318.0 3318.0 125 3328.61 red side=sell qty=2 change=True\n",
      "running 2023-03-28 13:30:13.242950 2023-03-28T13:27:00+0530 2023-03-28T13:27:00+0530 3316.45 3318.85 3315.0 3317.4 501 3327.97 red side=sell qty=2 change=False\n"
     ]
    },
    {
     "ename": "KeyboardInterrupt",
     "evalue": "",
     "output_type": "error",
     "traceback": [
      "\u001b[1;31m---------------------------------------------------------------------------\u001b[0m",
      "\u001b[1;31mKeyboardInterrupt\u001b[0m                         Traceback (most recent call last)",
      "Cell \u001b[1;32mIn[31], line 34\u001b[0m\n\u001b[0;32m     28\u001b[0m \u001b[38;5;66;03m# order_plc = place_order(ROOT_ENDPOINT,headers,\"NSE\",\"ICICIBANK\",2,'sell'if last_row.STX=='red' else 'buy')\u001b[39;00m\n\u001b[0;32m     29\u001b[0m \u001b[38;5;66;03m# print(order_plc)\u001b[39;00m\n\u001b[0;32m     30\u001b[0m \u001b[38;5;66;03m# place_order(\"NSE\",\"ICICIBANK\",1,'SELL')\u001b[39;00m\n\u001b[0;32m     31\u001b[0m \u001b[38;5;66;03m# running 2023-03-24 13:58:41.163117 2023-03-24T13:54:00+0530 3357.65 3359.65 3355.3 3357.8 424 3367.48 red side=sell qty 1or2 change=True\u001b[39;00m\n\u001b[0;32m     33\u001b[0m \u001b[38;5;28;01mwhile\u001b[39;00m \u001b[38;5;28;01mTrue\u001b[39;00m:\n\u001b[1;32m---> 34\u001b[0m     \u001b[43mtime\u001b[49m\u001b[38;5;241;43m.\u001b[39;49m\u001b[43msleep\u001b[49m\u001b[43m(\u001b[49m\u001b[38;5;241;43m1\u001b[39;49m\u001b[43m)\u001b[49m\n\u001b[0;32m     35\u001b[0m     \u001b[38;5;28;01mif\u001b[39;00m \u001b[38;5;28mstr\u001b[39m(parser\u001b[38;5;241m.\u001b[39mparse(last_time\u001b[38;5;241m.\u001b[39mreplace(\u001b[38;5;124m\"\u001b[39m\u001b[38;5;124mT\u001b[39m\u001b[38;5;124m\"\u001b[39m,\u001b[38;5;124m\"\u001b[39m\u001b[38;5;124m \u001b[39m\u001b[38;5;124m\"\u001b[39m))\u001b[38;5;241m+\u001b[39mdatetime\u001b[38;5;241m.\u001b[39mtimedelta(minutes\u001b[38;5;241m=\u001b[39minterval\u001b[38;5;241m*\u001b[39m\u001b[38;5;241m2\u001b[39m))\u001b[38;5;241m<\u001b[39m\u001b[38;5;28mstr\u001b[39m(datetime\u001b[38;5;241m.\u001b[39mdatetime\u001b[38;5;241m.\u001b[39mnow()):\n\u001b[0;32m     37\u001b[0m         from_date \u001b[38;5;241m=\u001b[39m datetime\u001b[38;5;241m.\u001b[39mdatetime\u001b[38;5;241m.\u001b[39mnow()\u001b[38;5;241m-\u001b[39mdatetime\u001b[38;5;241m.\u001b[39mtimedelta(days\u001b[38;5;241m=\u001b[39m\u001b[38;5;241m90\u001b[39m)\n",
      "\u001b[1;31mKeyboardInterrupt\u001b[0m: "
     ]
    }
   ],
   "source": [
    "from dateutil import parser\n",
    "import requests as re\n",
    "API_KEY=\"rfnqn5jyts2ljcq1\"\n",
    "# RUBbPfsVE3sbiBpIk109eAY4L8cOvdnv\n",
    "# VkjKYp51T2TgvvHNPukdY5K2gRttR3W7\n",
    "ACCESS_TOKEN=\"C5FaLbne1mJM5l6bIzK5nmGBC9Z39Zlt\"\n",
    "headers={\"X-Kite-Version\":'3','Authorization':\"token \"+API_KEY+\":\"+ACCESS_TOKEN}\n",
    "ROOT_ENDPOINT=\"https://api.kite.trade\"\n",
    "API_SECRET=\"4t8tlmijcewpoov8nayd978x7bpj4yif\"\n",
    "\n",
    "\n",
    "\n",
    "interval=3\n",
    "import datetime,time\n",
    "\n",
    "from_date = datetime.datetime.now()-datetime.timedelta(days=90)\n",
    "to_date = datetime.datetime.now()-datetime.timedelta(minutes=interval)\n",
    "if interval==1:\n",
    "    time_frame = 'minute'\n",
    "    \n",
    "else:\n",
    "    time_frame = str(interval)+'minute'\n",
    "    \n",
    "last_row = getData(5097729,from_date, to_date, time_frame )\n",
    "last_time=last_row.Timestamp\n",
    "last_signal=last_row.STX\n",
    "print('running',datetime.datetime.now(),last_time,last_row.Timestamp,last_row.open,last_row.high,last_row.low,last_row.close,last_row.volume,last_row.ST,last_row.STX,'side=sell'if last_row.STX=='red' else 'side=buy','qty=1','change=True')\n",
    "# order_plc = place_order(ROOT_ENDPOINT,headers,\"NSE\",\"ICICIBANK\",2,'sell'if last_row.STX=='red' else 'buy')\n",
    "# print(order_plc)\n",
    "# place_order(\"NSE\",\"ICICIBANK\",1,'SELL')\n",
    "# running 2023-03-24 13:58:41.163117 2023-03-24T13:54:00+0530 3357.65 3359.65 3355.3 3357.8 424 3367.48 red side=sell qty 1or2 change=True\n",
    "\n",
    "while True:\n",
    "    time.sleep(1)\n",
    "    if str(parser.parse(last_time.replace(\"T\",\" \"))+datetime.timedelta(minutes=interval*2))<str(datetime.datetime.now()):\n",
    "        \n",
    "        from_date = datetime.datetime.now()-datetime.timedelta(days=90)\n",
    "        to_date = datetime.datetime.now()-datetime.timedelta(minutes=interval)\n",
    "        last_row = getData(5097729,from_date, to_date, time_frame )\n",
    "        last_time=last_row.Timestamp\n",
    "        print('running',datetime.datetime.now(),last_time,last_row.Timestamp,last_row.open,last_row.high,last_row.low,last_row.close,last_row.volume,last_row.ST,last_row.STX,'side=sell'if last_row.STX=='red' else 'side=buy','qty=2','change=True' if last_row.STX!=last_signal else 'change=False')\n",
    "        last_signal=last_row.STX\n",
    "        if last_row.STX!=last_signal:\n",
    "            print(\"order called\")\n",
    "            order_plc =  place_order(ROOT_ENDPOINT,headers,\"NSE\",\"ICICIBANK\",2,'SELL'if last_row.STX=='red' else 'BUY')\n",
    "            print(order_plc)\n",
    "\n",
    "        #         if stx=\"red\":\n",
    "#             print(\"side=sell\")\n",
    "#             else:\n",
    "#                 print(\"side=buy\")"
   ]
  },
  {
   "cell_type": "code",
   "execution_count": 89,
   "id": "f46d4c18",
   "metadata": {},
   "outputs": [],
   "source": [
    "def place_order(ROOT_ENDPOINT,headers,ex,tr_symbl,qty,transation ):\n",
    "    data={\n",
    "    \"tradingsymbol\":tr_symbl,\n",
    "    \"exchange\":ex,\n",
    "    \"transaction_type\":transation,\n",
    "    \"order_type\":\"MARKET\",\n",
    "    \"quantity\":qty,\n",
    "    \"product\":\"CNC\",\n",
    "    \"validity\":\"DAY\"\n",
    "    }\n",
    "#order_plc =  place_order(ROOT_ENDPOINT,headers,\"NSE\",\"ICICIBANK\",2,'sell'if last_row.STX=='red' else 'buy')\n",
    "\n",
    "    res=re.post(ROOT_ENDPOINT+'/orders/regular',headers=headers,data=data)\n",
    "    print(res)\n",
    "    return res\n",
    "    "
   ]
  },
  {
   "cell_type": "code",
   "execution_count": 92,
   "id": "b730abad",
   "metadata": {},
   "outputs": [
    {
     "name": "stdout",
     "output_type": "stream",
     "text": [
      "<Response [200]>\n"
     ]
    }
   ],
   "source": [
    "order_plc =  place_order(ROOT_ENDPOINT,headers,\"NSE\",\"ICICIBANK\",2,'SELL'if last_row.STX=='red' else 'BUY')\n",
    "\n",
    "\n"
   ]
  },
  {
   "cell_type": "code",
   "execution_count": 95,
   "id": "8a00c68d",
   "metadata": {},
   "outputs": [],
   "source": [
    "order_id = order_plc.json()['data']['order_id']"
   ]
  },
  {
   "cell_type": "code",
   "execution_count": 100,
   "id": "dc84f995",
   "metadata": {},
   "outputs": [
    {
     "name": "stdout",
     "output_type": "stream",
     "text": [
      "--------------------------------\n",
      "0 REJECTED NSE ICICIBANK Insufficient stock holding or there are pending sell orders for this stock. Check the orderbook.\n",
      "--------------------------------\n"
     ]
    }
   ],
   "source": [
    "orders=re.get(ROOT_ENDPOINT+\"/orders\",headers=headers).json()\n",
    "for order in orders['data']:\n",
    "        if order['order_id']==order_id:\n",
    "            print(order['average_price'],order['status'],order['exchange'],order['tradingsymbol'],order['status_message'] )\n",
    "        print('--------------------------------')\n",
    "      \n",
    "        "
   ]
  },
  {
   "cell_type": "code",
   "execution_count": null,
   "id": "c73aef21",
   "metadata": {},
   "outputs": [],
   "source": []
  },
  {
   "cell_type": "code",
   "execution_count": 114,
   "id": "48360077",
   "metadata": {},
   "outputs": [
    {
     "name": "stdout",
     "output_type": "stream",
     "text": [
      "788b8300cbd0f6cdcba3ac72dade87481da5a01790c6936c3a17bfe1124f15e2\n"
     ]
    }
   ],
   "source": [
    "import hashlib\n",
    "\n",
    "text = API_KEY+req_token+API_SECRET\n",
    "\n",
    "m = hashlib.sha256(text.encode('UTF-8'))\n",
    "print(m.hexdigest())"
   ]
  },
  {
   "cell_type": "code",
   "execution_count": 115,
   "id": "ebb9b9b4",
   "metadata": {},
   "outputs": [],
   "source": [
    "req_token=\"C5FaLbne1mJM5l6bIzK5nmGBC9Z39Zlt\""
   ]
  },
  {
   "cell_type": "code",
   "execution_count": 116,
   "id": "a1d9a18e",
   "metadata": {},
   "outputs": [],
   "source": [
    "ret=re.post(ROOT_ENDPOINT+'/session/token',headers={\"X-Kite-Version\":'3'},data={'api_key':API_KEY,'request_token':req_token,\"checksum\":m.hexdigest()})"
   ]
  },
  {
   "cell_type": "code",
   "execution_count": 117,
   "id": "39565fab",
   "metadata": {},
   "outputs": [
    {
     "data": {
      "text/plain": [
       "{'status': 'error',\n",
       " 'message': 'Token is invalid or has expired.',\n",
       " 'data': None,\n",
       " 'error_type': 'TokenException'}"
      ]
     },
     "execution_count": 117,
     "metadata": {},
     "output_type": "execute_result"
    }
   ],
   "source": [
    "ret.json()"
   ]
  },
  {
   "cell_type": "code",
   "execution_count": null,
   "id": "3b97ab8f",
   "metadata": {},
   "outputs": [],
   "source": []
  },
  {
   "cell_type": "code",
   "execution_count": null,
   "id": "14d5c51a",
   "metadata": {},
   "outputs": [],
   "source": []
  }
 ],
 "metadata": {
  "kernelspec": {
   "display_name": "Python 3 (ipykernel)",
   "language": "python",
   "name": "python3"
  },
  "language_info": {
   "codemirror_mode": {
    "name": "ipython",
    "version": 3
   },
   "file_extension": ".py",
   "mimetype": "text/x-python",
   "name": "python",
   "nbconvert_exporter": "python",
   "pygments_lexer": "ipython3",
   "version": "3.10.2"
  }
 },
 "nbformat": 4,
 "nbformat_minor": 5
}
