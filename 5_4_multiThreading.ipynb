{
 "cells": [
  {
   "cell_type": "code",
   "execution_count": 15,
   "id": "0ed539fd",
   "metadata": {},
   "outputs": [],
   "source": [
    "import datetime\n",
    "import pandas as pd\n",
    "import requests as re\n",
    "from pprint import pprint as pp\n",
    "import threading\n",
    "import time\n",
    "import sqlite3"
   ]
  },
  {
   "cell_type": "code",
   "execution_count": 6,
   "id": "fcb59e1d",
   "metadata": {},
   "outputs": [],
   "source": [
    "# def getData(token, fromm, to, time_frame):\n",
    "#     global last_data,superdf\n",
    "#     data=re.get(f\"https://api.kite.trade/instruments/historical/{token}/{time_frame}?from={fromm}&to={to}\",headers=headers)\n",
    "# #     print(\"data-->\", data.json())\n",
    "#     df=pd.DataFrame(data.json()['data']['candles'])\n",
    "#     df.columns = [\"Timestamp\", \"open\", \"high\", \"low\",\"close\",\"volume\"]\n",
    "#     superdf=SuperTrend(df)\n",
    "\n",
    "#     last_data = superdf.iloc[-1]\n",
    "#     return last_data"
   ]
  },
  {
   "cell_type": "code",
   "execution_count": 10,
   "id": "02193b99",
   "metadata": {},
   "outputs": [],
   "source": [
    "# def getDataT(token, fromm, to, time_frame):\n",
    "#     global last_data,superdf\n",
    "#     data=re.get(f\"https://api.kite.trade/instruments/historical/{token}/{time_frame}?from={fromm}&to={to}\",headers=headers)\n",
    "#     print(\"data-->\", data.json())\n",
    "#     newrow=data.json()['data']['candles'][-1]\n",
    "   \n",
    "#     return newrow\n",
    "# #     superdf=SuperTrend(df)\n",
    "# #     last_data = superdf.iloc[-1]"
   ]
  },
  {
   "cell_type": "code",
   "execution_count": 11,
   "id": "66a9704f",
   "metadata": {},
   "outputs": [
    {
     "name": "stdout",
     "output_type": "stream",
     "text": [
      "data--> {'status': 'error', 'message': 'Incorrect `api_key` or `access_token`.', 'data': None, 'error_type': 'TokenException'}\n"
     ]
    },
    {
     "ename": "TypeError",
     "evalue": "'NoneType' object is not subscriptable",
     "output_type": "error",
     "traceback": [
      "\u001b[1;31m---------------------------------------------------------------------------\u001b[0m",
      "\u001b[1;31mTypeError\u001b[0m                                 Traceback (most recent call last)",
      "Cell \u001b[1;32mIn[11], line 1\u001b[0m\n\u001b[1;32m----> 1\u001b[0m newrow \u001b[38;5;241m=\u001b[39m \u001b[43mgetDataT\u001b[49m\u001b[43m(\u001b[49m\u001b[38;5;241;43m5097729\u001b[39;49m\u001b[43m,\u001b[49m\u001b[43mfrom_date\u001b[49m\u001b[43m,\u001b[49m\u001b[43m \u001b[49m\u001b[43mto_date\u001b[49m\u001b[43m,\u001b[49m\u001b[43m \u001b[49m\u001b[43mtime_frame\u001b[49m\u001b[43m \u001b[49m\u001b[43m)\u001b[49m\n\u001b[0;32m      2\u001b[0m newrow\n",
      "Cell \u001b[1;32mIn[10], line 5\u001b[0m, in \u001b[0;36mgetDataT\u001b[1;34m(token, fromm, to, time_frame)\u001b[0m\n\u001b[0;32m      3\u001b[0m data\u001b[38;5;241m=\u001b[39mre\u001b[38;5;241m.\u001b[39mget(\u001b[38;5;124mf\u001b[39m\u001b[38;5;124m\"\u001b[39m\u001b[38;5;124mhttps://api.kite.trade/instruments/historical/\u001b[39m\u001b[38;5;132;01m{\u001b[39;00mtoken\u001b[38;5;132;01m}\u001b[39;00m\u001b[38;5;124m/\u001b[39m\u001b[38;5;132;01m{\u001b[39;00mtime_frame\u001b[38;5;132;01m}\u001b[39;00m\u001b[38;5;124m?from=\u001b[39m\u001b[38;5;132;01m{\u001b[39;00mfromm\u001b[38;5;132;01m}\u001b[39;00m\u001b[38;5;124m&to=\u001b[39m\u001b[38;5;132;01m{\u001b[39;00mto\u001b[38;5;132;01m}\u001b[39;00m\u001b[38;5;124m\"\u001b[39m,headers\u001b[38;5;241m=\u001b[39mheaders)\n\u001b[0;32m      4\u001b[0m \u001b[38;5;28mprint\u001b[39m(\u001b[38;5;124m\"\u001b[39m\u001b[38;5;124mdata-->\u001b[39m\u001b[38;5;124m\"\u001b[39m, data\u001b[38;5;241m.\u001b[39mjson())\n\u001b[1;32m----> 5\u001b[0m newrow\u001b[38;5;241m=\u001b[39m\u001b[43mdata\u001b[49m\u001b[38;5;241;43m.\u001b[39;49m\u001b[43mjson\u001b[49m\u001b[43m(\u001b[49m\u001b[43m)\u001b[49m\u001b[43m[\u001b[49m\u001b[38;5;124;43m'\u001b[39;49m\u001b[38;5;124;43mdata\u001b[39;49m\u001b[38;5;124;43m'\u001b[39;49m\u001b[43m]\u001b[49m\u001b[43m[\u001b[49m\u001b[38;5;124;43m'\u001b[39;49m\u001b[38;5;124;43mcandles\u001b[39;49m\u001b[38;5;124;43m'\u001b[39;49m\u001b[43m]\u001b[49m[\u001b[38;5;241m-\u001b[39m\u001b[38;5;241m1\u001b[39m]\n\u001b[0;32m      7\u001b[0m \u001b[38;5;28;01mreturn\u001b[39;00m newrow\n",
      "\u001b[1;31mTypeError\u001b[0m: 'NoneType' object is not subscriptable"
     ]
    }
   ],
   "source": [
    "newrow = getDataT(5097729,from_date, to_date, time_frame )\n",
    "newrow"
   ]
  },
  {
   "cell_type": "code",
   "execution_count": null,
   "id": "f924a913",
   "metadata": {},
   "outputs": [],
   "source": [
    "data= superdf\n",
    "data = data.iloc[-1]\n",
    "data"
   ]
  },
  {
   "cell_type": "code",
   "execution_count": null,
   "id": "c3245e71",
   "metadata": {},
   "outputs": [],
   "source": [
    "SuperTrend(newrow, data)"
   ]
  },
  {
   "cell_type": "code",
   "execution_count": null,
   "id": "b6cd2140",
   "metadata": {},
   "outputs": [],
   "source": [
    "superdf=superdf.append(SuperTrend(newrow, data),ignore_index=True)\n",
    "last_data=\n",
    "\n"
   ]
  },
  {
   "cell_type": "code",
   "execution_count": 22,
   "id": "d1389c41",
   "metadata": {},
   "outputs": [],
   "source": [
    "def SuperTrend(newrow,data, period = 10, multiplier=3, ohlc=['Open', 'High', 'Low', 'Close']):\n",
    "        global supertrend\n",
    "        tr0 = abs(newrow[2] - newrow[3])\n",
    "        tr1 = abs(newrow[2] - data[\"close\"])\n",
    "        tr2 = abs(newrow[3]- data[\"close\"])\n",
    "        TR = round(max([tr0, tr1, tr2]),2)\n",
    "        \n",
    "        ST=data[\"ST\"]\n",
    "        ATR = (data['ATR'] * (period-1))+TR/period\n",
    "        BUB = round(((newrow[2] + newrow[3]) / 2) + (multiplier * ATR),2)\n",
    "        BLB = round(((newrow[2] + newrow[3]) / 2) - (multiplier * ATR),2)\n",
    "        \n",
    "        if (BUB<data[\"final_ub\"])|(data[\"close\"]>data[\"final_ub\"]):\n",
    "            final_ub= BUB\n",
    "        else:\n",
    "            final_ub=data[\"final_ub\"]\n",
    "\n",
    "        if (BLB>data[\"final_lb\"])|(data[\"close\"]<data[\"final_lb\"]):\n",
    "            final_lb=BLB\n",
    "        else:\n",
    "            final_lb=data[\"final_lb\"]\n",
    "            \n",
    "            \n",
    "       \n",
    "        if (ST==data['final_ub']) & (newrow[4]<=final_ub):\n",
    "            ST =final_ub\n",
    "        elif (data[\"ST\"]==data[\"final_ub\"])&(newrow[4]>final_ub):\n",
    "            ST=final_lb\n",
    "        elif (data[\"ST\"]==data[\"final_lb\"])&(newrow[4]>=final_lb):\n",
    "            ST=final_lb\n",
    "        elif (data[\"ST\"]==data[\"final_lb\"])&(newrow[4]<final_lb):\n",
    "            ST=final_ub\n",
    "            \n",
    "    \n",
    "        if (ST<data[\"close\"]) :\n",
    "            STX=\"green\"\n",
    "        else:\n",
    "            STX=\"red\"\n",
    "            \n",
    "        newrow_list = {\"Timestamp\":newrow[0],\"open\":newrow[1],\"high\":newrow[2],\"low\":newrow[3],\"close\":newrow[4],\"volume\":newrow[5],\"ATR\":ATR,\"final_ub\":final_ub,\"final_lb\":final_lb,\"ST\":ST, \"STX\":STX}\n",
    "        \n",
    "        \n",
    "        return newrow_list"
   ]
  },
  {
   "cell_type": "code",
   "execution_count": 23,
   "id": "ac31dd63",
   "metadata": {},
   "outputs": [],
   "source": [
    "def SuperTrendd(data, period = 10, multiplier=3, ohlc=['open', 'high', 'low', 'close']):\n",
    "        global supertrend\n",
    "        data['tr0'] = abs(data[\"high\"] - data[\"low\"])\n",
    "        data['tr1'] = abs(data[\"high\"] - data[\"close\"].shift(1))\n",
    "        data['tr2'] = abs(data[\"low\"]- data[\"close\"].shift(1))\n",
    "        data[\"TR\"] = round(data[['tr0', 'tr1', 'tr2']].max(axis=1),2)\n",
    "        data[\"ATR\"]=0.00\n",
    "        data['BUB']=0.00\n",
    "        data[\"BLB\"]=0.00\n",
    "        data[\"final_ub\"]=0.00\n",
    "        data[\"final_lb\"]=0.00\n",
    "        data[\"ST\"]=0.00\n",
    "        for i, row in data.iterrows():\n",
    "            if i == 0:\n",
    "                data.loc[i,'ATR'] = 0.00#data['ATR'].iat[0]\n",
    "            else:\n",
    "                data.loc[i,'ATR'] = ((data.loc[i-1,'ATR'] * (period-1))+data.loc[i,'TR'])/period\n",
    "        data['BUB'] = round(((data[\"high\"] + data[\"low\"]) / 2) + (multiplier * data[\"ATR\"]),2)\n",
    "        data['BLB'] = round(((data[\"high\"] + data[\"low\"]) / 2) - (multiplier * data[\"ATR\"]),2)\n",
    "        \n",
    "        if (data.loc[i,\"BUB\"]<data.loc[i-1,\"final_ub\"])|(data.loc[i-1,\"close\"]>data.loc[i-1,\"final_ub\"]):\n",
    "            data.loc[i,\"final_ub\"]=data.loc[i,\"BUB\"]\n",
    "        else:\n",
    "            data.loc[i,\"final_ub\"]=data.loc[i-1,\"final_ub\"]\n",
    "\n",
    "        if (data.loc[i,\"BLB\"]>data.loc[i-1,\"final_lb\"])|(data.loc[i-1,\"close\"]<data.loc[i-1,\"final_lb\"]):\n",
    "            data.loc[i,\"final_lb\"]=data.loc[i,\"BLB\"]\n",
    "        else:\n",
    "            data.loc[i,\"final_lb\"]=data.loc[i-1,\"final_lb\"]\n",
    "\n",
    "        for i, row in data.iterrows():\n",
    "            if i==0:\n",
    "                data.loc[i,\"ST\"]=0.00\n",
    "            elif (data.loc[i-1,\"ST\"]==data.loc[i-1,\"final_ub\"]) & (data.loc[i,\"close\"]<=data.loc[i,\"final_ub\"]):\n",
    "                data.loc[i,\"ST\"]=data.loc[i,\"final_ub\"]\n",
    "            elif (data.loc[i-1,\"ST\"]==data.loc[i-1,\"final_ub\"])&(data.loc[i,\"close\"]>data.loc[i,\"final_ub\"]):\n",
    "                data.loc[i,\"ST\"]=data.loc[i,\"final_lb\"]\n",
    "            elif (data.loc[i-1,\"ST\"]==data.loc[i-1,\"final_lb\"])&(data.loc[i,\"close\"]>=data.loc[i,\"final_lb\"]):\n",
    "                data.loc[i,\"ST\"]=data.loc[i,\"final_lb\"]\n",
    "            elif (data.loc[i-1,\"ST\"]==data.loc[i-1,\"final_lb\"])&(data.loc[i,\"close\"]<data.loc[i,\"final_lb\"]):\n",
    "                data.loc[i,\"ST\"]=data.loc[i,\"final_ub\"]\n",
    "\n",
    "        # Buy Sell Indicator\n",
    "        for i, row in data.iterrows():\n",
    "            if i==0:\n",
    "                data[\"STX\"]=\"NA\"\n",
    "            elif (data.loc[i,\"ST\"]<data.loc[i,\"close\"]) :\n",
    "                data.loc[i,\"STX\"]=\"green\"\n",
    "            else:\n",
    "                data.loc[i,\"STX\"]=\"red\"\n",
    "        return data"
   ]
  },
  {
   "cell_type": "code",
   "execution_count": 24,
   "id": "d39861ce",
   "metadata": {},
   "outputs": [],
   "source": [
    "def getData(token, fromm, to, time_frame):\n",
    "        global last_data,superdf\n",
    "        data=re.get(f\"https://api.kite.trade/instruments/historical/{token}/{time_frame}?from={fromm}&to={to}\",headers=headers)\n",
    "        df=pd.DataFrame(data.json()['data']['candles'])\n",
    "        df.columns = [\"Timestamp\", \"open\", \"high\", \"low\",\"close\",\"volume\"]\n",
    "        superdf=SuperTrendd(df)\n",
    "        superdf = superdf.iloc[-1]\n",
    "        return superdf"
   ]
  },
  {
   "cell_type": "code",
   "execution_count": 25,
   "id": "4dbc5a3f",
   "metadata": {},
   "outputs": [],
   "source": [
    "def getDataT(token, fromm, to, time_frame):\n",
    "        global last_data\n",
    "        data=re.get(f\"https://api.kite.trade/instruments/historical/{token}/{time_frame}?from={fromm}&to={to}\",headers=headers)\n",
    "#         print(\"data-->\", data.json())\n",
    "        newrow=data.json()['data']['candles'][-1]\n",
    "        return newrow"
   ]
  },
  {
   "cell_type": "code",
   "execution_count": 26,
   "id": "e0260321",
   "metadata": {},
   "outputs": [],
   "source": [
    "def SuperFunc(token, fromm, to, time_frame):\n",
    "    \n",
    "    \n",
    "    newrow = getDataT(token, fromm, to, time_frame)\n",
    "    \n",
    "    superdf=superdf.append(SuperTrend(newrow, data),ignore_index=True)\n",
    "    last_data = superdf.iloc[-1]\n",
    "    return last_data\n"
   ]
  },
  {
   "cell_type": "code",
   "execution_count": 27,
   "id": "4502861c",
   "metadata": {},
   "outputs": [],
   "source": [
    "def SuperFuncc(token, fromm, to, time_frame):\n",
    "    \n",
    "    data = getDataT(token, fromm, to, time_frame)\n",
    "    \n",
    "    newrow = getDataT(token, fromm, to, time_frame)\n",
    "    \n",
    "    superdf=superdf.append(SuperTrend(newrow, data),ignore_index=True)\n",
    "    last_data = superdf.iloc[-1]\n",
    "    return last_data\n"
   ]
  },
  {
   "cell_type": "code",
   "execution_count": 28,
   "id": "8dc8ced7",
   "metadata": {},
   "outputs": [
    {
     "ename": "UnboundLocalError",
     "evalue": "local variable 'superdf' referenced before assignment",
     "output_type": "error",
     "traceback": [
      "\u001b[1;31m---------------------------------------------------------------------------\u001b[0m",
      "\u001b[1;31mUnboundLocalError\u001b[0m                         Traceback (most recent call last)",
      "Cell \u001b[1;32mIn[28], line 25\u001b[0m\n\u001b[0;32m     22\u001b[0m     time_frame \u001b[38;5;241m=\u001b[39m \u001b[38;5;28mstr\u001b[39m(interval)\u001b[38;5;241m+\u001b[39m\u001b[38;5;124m'\u001b[39m\u001b[38;5;124mminute\u001b[39m\u001b[38;5;124m'\u001b[39m\n\u001b[0;32m     24\u001b[0m \u001b[38;5;66;03m# last_row = getData(5097729,from_date, to_date, time_frame )\u001b[39;00m\n\u001b[1;32m---> 25\u001b[0m last_row \u001b[38;5;241m=\u001b[39m \u001b[43mSuperFunc\u001b[49m\u001b[43m(\u001b[49m\u001b[38;5;241;43m5097729\u001b[39;49m\u001b[43m,\u001b[49m\u001b[43mfrom_date\u001b[49m\u001b[43m,\u001b[49m\u001b[43m \u001b[49m\u001b[43mto_date\u001b[49m\u001b[43m,\u001b[49m\u001b[43m \u001b[49m\u001b[43mtime_frame\u001b[49m\u001b[43m \u001b[49m\u001b[43m)\u001b[49m\n\u001b[0;32m     27\u001b[0m last_time\u001b[38;5;241m=\u001b[39mlast_row\u001b[38;5;241m.\u001b[39mTimestamp\n\u001b[0;32m     28\u001b[0m last_signal\u001b[38;5;241m=\u001b[39mlast_row\u001b[38;5;241m.\u001b[39mSTX\n",
      "Cell \u001b[1;32mIn[26], line 7\u001b[0m, in \u001b[0;36mSuperFunc\u001b[1;34m(token, fromm, to, time_frame)\u001b[0m\n\u001b[0;32m      3\u001b[0m data \u001b[38;5;241m=\u001b[39m getData(token, fromm, to, time_frame)\n\u001b[0;32m      5\u001b[0m newrow \u001b[38;5;241m=\u001b[39m getDataT(token, fromm, to, time_frame)\n\u001b[1;32m----> 7\u001b[0m superdf\u001b[38;5;241m=\u001b[39m\u001b[43msuperdf\u001b[49m\u001b[38;5;241m.\u001b[39mappend(SuperTrend(newrow, data),ignore_index\u001b[38;5;241m=\u001b[39m\u001b[38;5;28;01mTrue\u001b[39;00m)\n\u001b[0;32m      8\u001b[0m last_data \u001b[38;5;241m=\u001b[39m superdf\u001b[38;5;241m.\u001b[39miloc[\u001b[38;5;241m-\u001b[39m\u001b[38;5;241m1\u001b[39m]\n\u001b[0;32m      9\u001b[0m \u001b[38;5;28;01mreturn\u001b[39;00m last_data\n",
      "\u001b[1;31mUnboundLocalError\u001b[0m: local variable 'superdf' referenced before assignment"
     ]
    }
   ],
   "source": [
    "from dateutil import parser\n",
    "import requests as re\n",
    "API_KEY=\"rfnqn5jyts2ljcq1\"\n",
    "# RUBbPfsVE3sbiBpIk109eAY4L8cOvdnv\n",
    "# VkjKYp51T2TgvvHNPukdY5K2gRttR3W7\n",
    "ACCESS_TOKEN=\"A7WaKJIzhjURGiOD6DVicwSqyIrS7Cak\"\n",
    "headers={\"X-Kite-Version\":'3','Authorization':\"token \"+API_KEY+\":\"+ACCESS_TOKEN}\n",
    "ROOT_ENDPOINT=\"https://api.kite.trade\"\n",
    "API_SECRET=\"4t8tlmijcewpoov8nayd978x7bpj4yif\"\n",
    "\n",
    "\n",
    "\n",
    "interval=3\n",
    "import datetime,time\n",
    "\n",
    "from_date = datetime.datetime.now()-datetime.timedelta(days=90)\n",
    "to_date = datetime.datetime.now()-datetime.timedelta(minutes=interval)\n",
    "if interval==1:\n",
    "    time_frame = 'minute'\n",
    "    \n",
    "else:\n",
    "    time_frame = str(interval)+'minute'\n",
    "    \n",
    "# last_row = getData(5097729,from_date, to_date, time_frame )\n",
    "last_row = SuperFunc(5097729,from_date, to_date, time_frame )\n",
    "\n",
    "last_time=last_row.Timestamp\n",
    "last_signal=last_row.STX\n",
    "print('running',datetime.datetime.now(),last_time,last_row.Timestamp,last_row.open,last_row.high,last_row.low,last_row.close,last_row.volume,last_row.ST,last_row.STX,'side=sell'if last_row.STX=='red' else 'side=buy','qty=1','change=True')\n",
    "#         adding data in file here\n",
    "f = open(\"marketData.txt\", \"a\")\n",
    "d = f\"{datetime.datetime.now()},{last_time,last_row.Timestamp},{last_row.open},{last_row.high},{last_row.low},{last_row.close},{last_row.volume},{last_row.ST},{last_row.STX},{'side=sell'if last_row.STX=='red' else 'side=buy'},{'qty=2'},{'change=True' if last_row.STX!=last_signal else 'change=False'}\"\n",
    "f.write(d)\n",
    "# f.write(f\"{datetime.datetime.now()},{last_time,last_row.Timestamp},{last_row.open},{last_row.high},{last_row.low},{last_row.close},{last_row.volume},{last_row.ST},{last_row.STX},{'side=sell'if last_row.STX=='red' else 'side=buy'},{'qty=2'},{'change=True' if last_row.STX!=last_signal else 'change=False'}\")\n",
    "# order_plc =  place_order(ROOT_ENDPOINT,headers,\"NSE\",\"ICICIBANK\",1000,'SELL'if last_row.STX=='red' else 'BUY')\n",
    "# print(order_plc)\n",
    "\n",
    "# running 2023-03-24 13:58:41.163117 2023-03-24T13:54:00+0530 3357.65 3359.65 3355.3 3357.8 424 3367.48 red side=sell qty 1or2 change=True\n",
    "# t1 = threading.Thread(target=getDataThread)\n",
    "# t1.start()\n",
    "while True:\n",
    "    time.sleep(1)\n",
    "    if str(parser.parse(last_time.replace(\"T\",\" \"))+datetime.timedelta(minutes=interval*2))<str(datetime.datetime.now()):\n",
    "        \n",
    "        from_date = datetime.datetime.now()-datetime.timedelta(days=5)\n",
    "        to_date = datetime.datetime.now()-datetime.timedelta(minutes=interval)\n",
    "        last_row = SuperFuncc(5097729,from_date, to_date, time_frame )\n",
    "        last_time=last_row.Timestamp\n",
    "        print('running',datetime.datetime.now(),last_time,last_row.Timestamp,last_row.open,last_row.high,last_row.low,last_row.close,last_row.volume,last_row.ST,last_row.STX,'side=sell'if last_row.STX=='red' else 'side=buy','qty=2','change=True' if last_row.STX!=last_signal else 'change=False')\n",
    "#         adding data in file here\n",
    "#         f = open(\"marketData.txt\", \"a\")\n",
    "#         d = f\"{datetime.datetime.now()},{last_time,last_row.Timestamp},{last_row.open},{last_row.high},{last_row.low},{last_row.close},{last_row.volume},{last_row.ST},{last_row.STX},{'side=sell'if last_row.STX=='red' else 'side=buy'},{'qty=2'},{'change=True' if last_row.STX!=last_signal else 'change=False'}\"\n",
    "#         f.write(d)\n",
    "        print(f\"{datetime.datetime.now()},{last_time,last_row.Timestamp},{last_row.open},{last_row.high},{last_row.low},{last_row.close},{last_row.volume},{last_row.ST},{last_row.STX},{'side=sell'if last_row.STX=='red' else 'side=buy'},{'qty=2'},{'change=True' if last_row.STX!=last_signal else 'change=False'}\")\n",
    "\n",
    "#         last_signal=last_row.STX\n",
    "#         if last_row.STX!=last_signal:\n",
    "#             print(\"order called\")\n",
    "#               order_plc =  place_order(ROOT_ENDPOINT,headers,\"NSE\",\"ICICIBANK\",1000,'SELL'if last_row.STX=='red' else 'BUY')\n",
    "#             print(order_plc)\n",
    "\n"
   ]
  },
  {
   "cell_type": "code",
   "execution_count": null,
   "id": "915b4136",
   "metadata": {},
   "outputs": [],
   "source": []
  },
  {
   "cell_type": "code",
   "execution_count": null,
   "id": "7c7e104b",
   "metadata": {},
   "outputs": [],
   "source": []
  }
 ],
 "metadata": {
  "kernelspec": {
   "display_name": "Python 3 (ipykernel)",
   "language": "python",
   "name": "python3"
  },
  "language_info": {
   "codemirror_mode": {
    "name": "ipython",
    "version": 3
   },
   "file_extension": ".py",
   "mimetype": "text/x-python",
   "name": "python",
   "nbconvert_exporter": "python",
   "pygments_lexer": "ipython3",
   "version": "3.10.2"
  }
 },
 "nbformat": 4,
 "nbformat_minor": 5
}
