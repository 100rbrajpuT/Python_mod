{
 "cells": [
  {
   "cell_type": "code",
   "execution_count": 1,
   "id": "613d4612",
   "metadata": {},
   "outputs": [],
   "source": [
    "import requests as re\n",
    "from pprint import pprint as pp\n",
    "ROOT_ENDPOINT=\"https://api.kite.trade\"\n",
    "API_KEY=\"rfnqn5jyts2ljcq1\"\n",
    "ACCESS_TOKEN=\"SVOV4qK4hD9TvrgssAlKi6QcCixDXt5S\"\n",
    "\n",
    "headers={\"X-Kite-Version\":'3','Authorization':\"token \"+API_KEY+\":\"+ACCESS_TOKEN}"
   ]
  },
  {
   "cell_type": "code",
   "execution_count": null,
   "id": "2d8ee5bc",
   "metadata": {},
   "outputs": [],
   "source": [
    " def SuperTrend(self,data, period = 10, multiplier=3, ohlc=['open', 'high', 'low', 'close']):\n",
    "        global supertrend\n",
    "        data['tr0'] = abs(data[\"high\"] - data[\"low\"])\n",
    "        data['tr1'] = abs(data[\"high\"] - data[\"close\"].shift(1))\n",
    "        data['tr2'] = abs(data[\"low\"]- data[\"close\"].shift(1))\n",
    "        data[\"TR\"] = round(data[['tr0', 'tr1', 'tr2']].max(axis=1),2)\n",
    "        data[\"ATR\"]=0.00\n",
    "        data['BUB']=0.00\n",
    "        data[\"BLB\"]=0.00\n",
    "        data[\"final_ub\"]=0.00\n",
    "        data[\"final_lb\"]=0.00\n",
    "        data[\"ST\"]=0.00\n",
    "        for i, row in data.iterrows():\n",
    "            if i == 0:\n",
    "                data.loc[i,'ATR'] = 0.00#data['ATR'].iat[0]\n",
    "            else:\n",
    "                data.loc[i,'ATR'] = ((data.loc[i-1,'ATR'] * (period-1))+data.loc[i,'TR'])/period\n",
    "        data['BUB'] = round(((data[\"high\"] + data[\"low\"]) / 2) + (multiplier * data[\"ATR\"]),2)\n",
    "        data['BLB'] = round(((data[\"high\"] + data[\"low\"]) / 2) - (multiplier * data[\"ATR\"]),2)\n",
    "        for i, row in data.iterrows():\n",
    "            if i==0:\n",
    "                data.loc[i,\"final_ub\"]=0.00\n",
    "            else:\n",
    "                if (data.loc[i,\"BUB\"]<data.loc[i-1,\"final_ub\"])|(data.loc[i-1,\"close\"]>data.loc[i-1,\"final_ub\"]):\n",
    "                    data.loc[i,\"final_ub\"]=data.loc[i,\"BUB\"]\n",
    "                else:\n",
    "                    data.loc[i,\"final_ub\"]=data.loc[i-1,\"final_ub\"]\n",
    "\n",
    "        for i, row in data.iterrows():\n",
    "            if i==0:\n",
    "                data.loc[i,\"final_lb\"]=0.00\n",
    "            else:\n",
    "                if (data.loc[i,\"BLB\"]>data.loc[i-1,\"final_lb\"])|(data.loc[i-1,\"close\"]<data.loc[i-1,\"final_lb\"]):\n",
    "                    data.loc[i,\"final_lb\"]=data.loc[i,\"BLB\"]\n",
    "                else:\n",
    "                    data.loc[i,\"final_lb\"]=data.loc[i-1,\"final_lb\"]\n",
    "\n",
    "        for i, row in data.iterrows():\n",
    "            if i==0:\n",
    "                data.loc[i,\"ST\"]=0.00\n",
    "            elif (data.loc[i-1,\"ST\"]==data.loc[i-1,\"final_ub\"]) & (data.loc[i,\"close\"]<=data.loc[i,\"final_ub\"]):\n",
    "                data.loc[i,\"ST\"]=data.loc[i,\"final_ub\"]\n",
    "            elif (data.loc[i-1,\"ST\"]==data.loc[i-1,\"final_ub\"])&(data.loc[i,\"close\"]>data.loc[i,\"final_ub\"]):\n",
    "                data.loc[i,\"ST\"]=data.loc[i,\"final_lb\"]\n",
    "            elif (data.loc[i-1,\"ST\"]==data.loc[i-1,\"final_lb\"])&(data.loc[i,\"close\"]>=data.loc[i,\"final_lb\"]):\n",
    "                data.loc[i,\"ST\"]=data.loc[i,\"final_lb\"]\n",
    "            elif (data.loc[i-1,\"ST\"]==data.loc[i-1,\"final_lb\"])&(data.loc[i,\"close\"]<data.loc[i,\"final_lb\"]):\n",
    "                data.loc[i,\"ST\"]=data.loc[i,\"final_ub\"]\n",
    "\n",
    "        # Buy Sell Indicator\n",
    "        for i, row in data.iterrows():\n",
    "            if i==0:\n",
    "                data[\"STX\"]=\"NA\"\n",
    "            elif (data.loc[i,\"ST\"]<data.loc[i,\"close\"]) :\n",
    "                data.loc[i,\"STX\"]=\"green\"\n",
    "            else:\n",
    "                data.loc[i,\"STX\"]=\"red\"\n",
    "        data.drop(['tr0', 'tr1', 'tr2', 'TR','BUB', 'BLB'], inplace=True, axis=1)\n",
    "        supertrend=data            \n",
    "        return data\n"
   ]
  },
  {
   "cell_type": "code",
   "execution_count": null,
   "id": "7b8945f0",
   "metadata": {},
   "outputs": [],
   "source": [
    "# run a function on time basis like every 5 minute \n",
    "\n",
    "# in this it should run when a minute complete\n",
    "\n",
    "\n"
   ]
  },
  {
   "cell_type": "code",
   "execution_count": 9,
   "id": "9ef52e7f",
   "metadata": {},
   "outputs": [
    {
     "data": {
      "text/plain": [
       "True"
      ]
     },
     "execution_count": 9,
     "metadata": {},
     "output_type": "execute_result"
    }
   ],
   "source": [
    "18%2==0"
   ]
  },
  {
   "cell_type": "code",
   "execution_count": null,
   "id": "69eba2f2",
   "metadata": {},
   "outputs": [],
   "source": []
  }
 ],
 "metadata": {
  "kernelspec": {
   "display_name": "Python 3 (ipykernel)",
   "language": "python",
   "name": "python3"
  },
  "language_info": {
   "codemirror_mode": {
    "name": "ipython",
    "version": 3
   },
   "file_extension": ".py",
   "mimetype": "text/x-python",
   "name": "python",
   "nbconvert_exporter": "python",
   "pygments_lexer": "ipython3",
   "version": "3.10.2"
  }
 },
 "nbformat": 4,
 "nbformat_minor": 5
}
