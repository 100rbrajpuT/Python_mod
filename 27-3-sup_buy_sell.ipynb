{
 "cells": [
  {
   "cell_type": "code",
   "execution_count": 1,
   "id": "73ba01f6",
   "metadata": {},
   "outputs": [],
   "source": [
    "API_KEY=\"rfnqn5jyts2ljcq1\"\n",
    "ACCESS_TOKEN=\"RUBbPfsVE3sbiBpIk109eAY4L8cOvdnv\"\n",
    "\n",
    "headers={\"X-Kite-Version\":'3','Authorization':\"token \"+API_KEY+\":\"+ACCESS_TOKEN}\n",
    "ROOT_ENDPOINT=\"https://api.kite.trade\"\n",
    "\n",
    "import requests as re\n",
    "from pprint import pprint as pp"
   ]
  },
  {
   "cell_type": "code",
   "execution_count": 7,
   "id": "3a6e912b",
   "metadata": {},
   "outputs": [],
   "source": [
    "import datetime\n",
    "import pandas as pd"
   ]
  },
  {
   "cell_type": "code",
   "execution_count": null,
   "id": "d5740239",
   "metadata": {},
   "outputs": [],
   "source": []
  },
  {
   "cell_type": "code",
   "execution_count": 20,
   "id": "fd98bb0e",
   "metadata": {},
   "outputs": [],
   "source": [
    "def getData(token, fromm, to, time_frame):\n",
    "    \n",
    "    data=re.get(f\"https://api.kite.trade/instruments/historical/{token}/{time_frame}?from={fromm}&to={to}\",headers=headers)\n",
    "    print(\"data-->\", data.json())\n",
    "    df=pd.DataFrame(data.json()['data']['candles'])\n",
    "    df.columns = [\"Timestamp\", \"open\", \"high\", \"low\",\"close\",\"volume\"]\n",
    "\n",
    "    return SuperTrend(df).iloc[-1]"
   ]
  },
  {
   "cell_type": "code",
   "execution_count": 21,
   "id": "b06df95f",
   "metadata": {},
   "outputs": [],
   "source": [
    "def SuperTrend(data, period = 10, multiplier=3, ohlc=['open', 'high', 'low', 'close']):\n",
    "        global supertrend\n",
    "        data['tr0'] = abs(data[\"high\"] - data[\"low\"])\n",
    "        data['tr1'] = abs(data[\"high\"] - data[\"close\"].shift(1))\n",
    "        data['tr2'] = abs(data[\"low\"]- data[\"close\"].shift(1))\n",
    "        data[\"TR\"] = round(data[['tr0', 'tr1', 'tr2']].max(axis=1),2)\n",
    "        data[\"ATR\"]=0.00\n",
    "        data['BUB']=0.00\n",
    "        data[\"BLB\"]=0.00\n",
    "        data[\"final_ub\"]=0.00\n",
    "        data[\"final_lb\"]=0.00\n",
    "        data[\"ST\"]=0.00\n",
    "        for i, row in data.iterrows():\n",
    "            if i == 0:\n",
    "                data.loc[i,'ATR'] = 0.00#data['ATR'].iat[0]\n",
    "            else:\n",
    "                data.loc[i,'ATR'] = ((data.loc[i-1,'ATR'] * (period-1))+data.loc[i,'TR'])/period\n",
    "        data['BUB'] = round(((data[\"high\"] + data[\"low\"]) / 2) + (multiplier * data[\"ATR\"]),2)\n",
    "        data['BLB'] = round(((data[\"high\"] + data[\"low\"]) / 2) - (multiplier * data[\"ATR\"]),2)\n",
    "        for i, row in data.iterrows():\n",
    "            if i==0:\n",
    "                data.loc[i,\"final_ub\"]=0.00\n",
    "            else:\n",
    "                if (data.loc[i,\"BUB\"]<data.loc[i-1,\"final_ub\"])|(data.loc[i-1,\"close\"]>data.loc[i-1,\"final_ub\"]):\n",
    "                    data.loc[i,\"final_ub\"]=data.loc[i,\"BUB\"]\n",
    "                else:\n",
    "                    data.loc[i,\"final_ub\"]=data.loc[i-1,\"final_ub\"]\n",
    "\n",
    "        for i, row in data.iterrows():\n",
    "            if i==0:\n",
    "                data.loc[i,\"final_lb\"]=0.00\n",
    "            else:\n",
    "                if (data.loc[i,\"BLB\"]>data.loc[i-1,\"final_lb\"])|(data.loc[i-1,\"close\"]<data.loc[i-1,\"final_lb\"]):\n",
    "                    data.loc[i,\"final_lb\"]=data.loc[i,\"BLB\"]\n",
    "                else:\n",
    "                    data.loc[i,\"final_lb\"]=data.loc[i-1,\"final_lb\"]\n",
    "\n",
    "        for i, row in data.iterrows():\n",
    "            if i==0:\n",
    "                data.loc[i,\"ST\"]=0.00\n",
    "            elif (data.loc[i-1,\"ST\"]==data.loc[i-1,\"final_ub\"]) & (data.loc[i,\"close\"]<=data.loc[i,\"final_ub\"]):\n",
    "                data.loc[i,\"ST\"]=data.loc[i,\"final_ub\"]\n",
    "            elif (data.loc[i-1,\"ST\"]==data.loc[i-1,\"final_ub\"])&(data.loc[i,\"close\"]>data.loc[i,\"final_ub\"]):\n",
    "                data.loc[i,\"ST\"]=data.loc[i,\"final_lb\"]\n",
    "            elif (data.loc[i-1,\"ST\"]==data.loc[i-1,\"final_lb\"])&(data.loc[i,\"close\"]>=data.loc[i,\"final_lb\"]):\n",
    "                data.loc[i,\"ST\"]=data.loc[i,\"final_lb\"]\n",
    "            elif (data.loc[i-1,\"ST\"]==data.loc[i-1,\"final_lb\"])&(data.loc[i,\"close\"]<data.loc[i,\"final_lb\"]):\n",
    "                data.loc[i,\"ST\"]=data.loc[i,\"final_ub\"]\n",
    "\n",
    "        # Buy Sell Indicator\n",
    "        for i, row in data.iterrows():\n",
    "            if i==0:\n",
    "                data[\"STX\"]=\"NA\"\n",
    "            elif (data.loc[i,\"ST\"]<data.loc[i,\"close\"]) :\n",
    "                data.loc[i,\"STX\"]=\"green\"\n",
    "            else:\n",
    "                data.loc[i,\"STX\"]=\"red\"\n",
    "        data.drop(['tr0', 'tr1', 'tr2', 'TR','BUB', 'BLB'], inplace=True, axis=1)\n",
    "        return data"
   ]
  },
  {
   "cell_type": "code",
   "execution_count": 22,
   "id": "a7cfa446",
   "metadata": {},
   "outputs": [],
   "source": [
    "def place_order(ROOT_ENDPOINT, ):\n",
    "    data={\n",
    "    \"tradingsymbol\":\"ACC\",\n",
    "    \"exchange\":\"NSE\",\n",
    "    \"transaction_type\":\"SELL\",\n",
    "    \"order_type\":\"LIMIT\",\n",
    "    \"price\":\"1800\",\n",
    "    \"quantity\":\"10000\",\n",
    "    \"product\":\"MIS\",\n",
    "    \"validity\":\"DAY\"\n",
    "    \n",
    "}\n",
    "    res=re.post(ROOT_ENDPOINT+'/orders/regular',headers=headers,data=data)\n",
    "    print(\"order successful\")\n",
    "    return res\n",
    "    "
   ]
  },
  {
   "cell_type": "code",
   "execution_count": 23,
   "id": "74d0c7fe",
   "metadata": {},
   "outputs": [
    {
     "name": "stdout",
     "output_type": "stream",
     "text": [
      "data--> {'status': 'error', 'message': 'Incorrect `api_key` or `access_token`.', 'data': None, 'error_type': 'TokenException'}\n"
     ]
    },
    {
     "ename": "TypeError",
     "evalue": "'NoneType' object is not subscriptable",
     "output_type": "error",
     "traceback": [
      "\u001b[1;31m---------------------------------------------------------------------------\u001b[0m",
      "\u001b[1;31mTypeError\u001b[0m                                 Traceback (most recent call last)",
      "Cell \u001b[1;32mIn[23], line 24\u001b[0m\n\u001b[0;32m     21\u001b[0m \u001b[38;5;28;01melse\u001b[39;00m:\n\u001b[0;32m     22\u001b[0m     time_frame \u001b[38;5;241m=\u001b[39m \u001b[38;5;28mstr\u001b[39m(interval)\u001b[38;5;241m+\u001b[39m\u001b[38;5;124m'\u001b[39m\u001b[38;5;124mminute\u001b[39m\u001b[38;5;124m'\u001b[39m\n\u001b[1;32m---> 24\u001b[0m last_row \u001b[38;5;241m=\u001b[39m \u001b[43mgetData\u001b[49m\u001b[43m(\u001b[49m\u001b[38;5;241;43m5097729\u001b[39;49m\u001b[43m,\u001b[49m\u001b[43mfrom_date\u001b[49m\u001b[43m,\u001b[49m\u001b[43m \u001b[49m\u001b[43mto_date\u001b[49m\u001b[43m,\u001b[49m\u001b[43m \u001b[49m\u001b[43mtime_frame\u001b[49m\u001b[43m \u001b[49m\u001b[43m)\u001b[49m\n\u001b[0;32m     25\u001b[0m last_time\u001b[38;5;241m=\u001b[39mlast_row\u001b[38;5;241m.\u001b[39mTimestamp\n\u001b[0;32m     26\u001b[0m last_signal\u001b[38;5;241m=\u001b[39mlast_row\u001b[38;5;241m.\u001b[39mSTX\n",
      "Cell \u001b[1;32mIn[20], line 5\u001b[0m, in \u001b[0;36mgetData\u001b[1;34m(token, fromm, to, time_frame)\u001b[0m\n\u001b[0;32m      3\u001b[0m data\u001b[38;5;241m=\u001b[39mre\u001b[38;5;241m.\u001b[39mget(\u001b[38;5;124mf\u001b[39m\u001b[38;5;124m\"\u001b[39m\u001b[38;5;124mhttps://api.kite.trade/instruments/historical/\u001b[39m\u001b[38;5;132;01m{\u001b[39;00mtoken\u001b[38;5;132;01m}\u001b[39;00m\u001b[38;5;124m/\u001b[39m\u001b[38;5;132;01m{\u001b[39;00mtime_frame\u001b[38;5;132;01m}\u001b[39;00m\u001b[38;5;124m?from=\u001b[39m\u001b[38;5;132;01m{\u001b[39;00mfromm\u001b[38;5;132;01m}\u001b[39;00m\u001b[38;5;124m&to=\u001b[39m\u001b[38;5;132;01m{\u001b[39;00mto\u001b[38;5;132;01m}\u001b[39;00m\u001b[38;5;124m\"\u001b[39m,headers\u001b[38;5;241m=\u001b[39mheaders)\n\u001b[0;32m      4\u001b[0m \u001b[38;5;28mprint\u001b[39m(\u001b[38;5;124m\"\u001b[39m\u001b[38;5;124mdata-->\u001b[39m\u001b[38;5;124m\"\u001b[39m, data\u001b[38;5;241m.\u001b[39mjson())\n\u001b[1;32m----> 5\u001b[0m df\u001b[38;5;241m=\u001b[39mpd\u001b[38;5;241m.\u001b[39mDataFrame(\u001b[43mdata\u001b[49m\u001b[38;5;241;43m.\u001b[39;49m\u001b[43mjson\u001b[49m\u001b[43m(\u001b[49m\u001b[43m)\u001b[49m\u001b[43m[\u001b[49m\u001b[38;5;124;43m'\u001b[39;49m\u001b[38;5;124;43mdata\u001b[39;49m\u001b[38;5;124;43m'\u001b[39;49m\u001b[43m]\u001b[49m\u001b[43m[\u001b[49m\u001b[38;5;124;43m'\u001b[39;49m\u001b[38;5;124;43mcandles\u001b[39;49m\u001b[38;5;124;43m'\u001b[39;49m\u001b[43m]\u001b[49m)\n\u001b[0;32m      6\u001b[0m df\u001b[38;5;241m.\u001b[39mcolumns \u001b[38;5;241m=\u001b[39m [\u001b[38;5;124m\"\u001b[39m\u001b[38;5;124mTimestamp\u001b[39m\u001b[38;5;124m\"\u001b[39m, \u001b[38;5;124m\"\u001b[39m\u001b[38;5;124mopen\u001b[39m\u001b[38;5;124m\"\u001b[39m, \u001b[38;5;124m\"\u001b[39m\u001b[38;5;124mhigh\u001b[39m\u001b[38;5;124m\"\u001b[39m, \u001b[38;5;124m\"\u001b[39m\u001b[38;5;124mlow\u001b[39m\u001b[38;5;124m\"\u001b[39m,\u001b[38;5;124m\"\u001b[39m\u001b[38;5;124mclose\u001b[39m\u001b[38;5;124m\"\u001b[39m,\u001b[38;5;124m\"\u001b[39m\u001b[38;5;124mvolume\u001b[39m\u001b[38;5;124m\"\u001b[39m]\n\u001b[0;32m      8\u001b[0m \u001b[38;5;28;01mreturn\u001b[39;00m SuperTrend(df)\u001b[38;5;241m.\u001b[39miloc[\u001b[38;5;241m-\u001b[39m\u001b[38;5;241m1\u001b[39m]\n",
      "\u001b[1;31mTypeError\u001b[0m: 'NoneType' object is not subscriptable"
     ]
    }
   ],
   "source": [
    "from dateutil import parser\n",
    "import requests as re\n",
    "API_KEY=\"rfnqn5jyts2ljcq1\"\n",
    "# RUBbPfsVE3sbiBpIk109eAY4L8cOvdnv\n",
    "# VkjKYp51T2TgvvHNPukdY5K2gRttR3W7\n",
    "ACCESS_TOKEN=\"e06AZ81g3j7VCITM3qcyrRoYjSNbhvA9\"\n",
    "headers={\"X-Kite-Version\":'3','Authorization':\"token \"+API_KEY+\":\"+ACCESS_TOKEN}\n",
    "ROOT_ENDPOINT=\"https://api.kite.trade\"\n",
    "API_SECRET=\"4t8tlmijcewpoov8nayd978x7bpj4yif\"\n",
    "\n",
    "\n",
    "\n",
    "interval=3\n",
    "import datetime,time\n",
    "\n",
    "from_date = datetime.datetime.now()-datetime.timedelta(days=90)\n",
    "to_date = datetime.datetime.now()-datetime.timedelta(minutes=interval)\n",
    "if interval==1:\n",
    "    time_frame = 'minute'\n",
    "    \n",
    "else:\n",
    "    time_frame = str(interval)+'minute'\n",
    "    \n",
    "last_row = getData(5097729,from_date, to_date, time_frame )\n",
    "last_time=last_row.Timestamp\n",
    "last_signal=last_row.STX\n",
    "print('running',datetime.datetime.now(),last_time,last_row.Timestamp,last_row.open,last_row.high,last_row.low,last_row.close,last_row.volume,last_row.ST,last_row.STX,'side=sell'if last_row.STX=='red' else 'side=buy','qty=1','change=True')\n",
    "# place_order(\"NSE\",\"ICICIBANK\",1,'SELL')\n",
    "# running 2023-03-24 13:58:41.163117 2023-03-24T13:54:00+0530 3357.65 3359.65 3355.3 3357.8 424 3367.48 red side=sell qty 1or2 change=True\n",
    "\n",
    "while True:\n",
    "    time.sleep(1)\n",
    "    if str(parser.parse(last_time.replace(\"T\",\" \"))+datetime.timedelta(minutes=interval*2))<str(datetime.datetime.now()):\n",
    "        \n",
    "        from_date = datetime.datetime.now()-datetime.timedelta(days=90)\n",
    "        to_date = datetime.datetime.now()-datetime.timedelta(minutes=interval)\n",
    "        last_row = getData(5097729,from_date, to_date, time_frame )\n",
    "        last_time=last_row.Timestamp\n",
    "        print('running',datetime.datetime.now(),last_time,last_row.Timestamp,last_row.open,last_row.high,last_row.low,last_row.close,last_row.volume,last_row.ST,last_row.STX,'side=sell'if last_row.STX=='red' else 'side=buy','qty=2','change=True' if last_row.STX!=last_signal else 'change=False')\n",
    "        last_signal=last_row.STX\n",
    "        if last_row.STX!=last_signal:\n",
    "            print(\"oo yes\")\n",
    "#             order_plc =  place_order(ROOT_ENDPOINT,headers,\"NSE\",\"ICICIBANK\",2,'BUY')\n",
    "#             order_plc\n",
    "\n",
    "        #         if stx=\"red\":\n",
    "#             print(\"side=sell\")\n",
    "#             else:\n",
    "#                 print(\"side=buy\")"
   ]
  },
  {
   "cell_type": "code",
   "execution_count": null,
   "id": "a327ac8d",
   "metadata": {},
   "outputs": [],
   "source": []
  },
  {
   "cell_type": "code",
   "execution_count": null,
   "id": "4ee5619c",
   "metadata": {},
   "outputs": [],
   "source": []
  },
  {
   "cell_type": "code",
   "execution_count": null,
   "id": "2d62141e",
   "metadata": {},
   "outputs": [],
   "source": []
  }
 ],
 "metadata": {
  "kernelspec": {
   "display_name": "Python 3 (ipykernel)",
   "language": "python",
   "name": "python3"
  },
  "language_info": {
   "codemirror_mode": {
    "name": "ipython",
    "version": 3
   },
   "file_extension": ".py",
   "mimetype": "text/x-python",
   "name": "python",
   "nbconvert_exporter": "python",
   "pygments_lexer": "ipython3",
   "version": "3.10.2"
  }
 },
 "nbformat": 4,
 "nbformat_minor": 5
}
