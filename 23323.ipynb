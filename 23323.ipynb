{
 "cells": [
  {
   "cell_type": "code",
   "execution_count": null,
   "id": "6b5e3942",
   "metadata": {},
   "outputs": [],
   "source": [
    "# to do\n",
    "itration practice\n",
    "f string\n",
    "datetime and datetime.timedelta\n",
    "\n",
    "pandas"
   ]
  },
  {
   "cell_type": "code",
   "execution_count": 1,
   "id": "cea8ce4b",
   "metadata": {},
   "outputs": [],
   "source": [
    "import requests as re\n",
    "from pprint import pprint as pp\n",
    "import datetime\n",
    "\n",
    "API_KEY=\"rfnqn5jyts2ljcq1\"\n",
    "ACCESS_TOKEN=\"kytBbVGJ2i3Dradnh3rlxZA5AmTgVFSt\"\n",
    "\n",
    "headers={\"X-Kite-Version\":'3','Authorization':\"token \"+API_KEY+\":\"+ACCESS_TOKEN}\n",
    "ROOT_ENDPOINT=\"https://api.kite.trade\"\n",
    "\n",
    "url='https://api.kite.trade/instruments/historical/5633/minute?from=2023-02-15+09:15:00&to=2023-03-23+09:20:00'\n",
    "\n",
    "data=re.get(url,headers=headers)"
   ]
  },
  {
   "cell_type": "code",
   "execution_count": 2,
   "id": "fd23c8b4",
   "metadata": {},
   "outputs": [],
   "source": [
    "ROOT_ENDPOINT=\"https://api.kite.trade\""
   ]
  },
  {
   "cell_type": "code",
   "execution_count": 14,
   "id": "328714ee",
   "metadata": {},
   "outputs": [],
   "source": []
  },
  {
   "cell_type": "code",
   "execution_count": null,
   "id": "b3ae3acb",
   "metadata": {},
   "outputs": [],
   "source": [
    "\n",
    "curl \"https://api.kite.trade/instruments/historical/5633/minute?from=2017-12-15+09:15:00&to=2017-12-15+09:20:00\"\n",
    "    -H \"X-Kite-Version: 3\" \\\n",
    "    -H \"Authorization: token api_key:access_token\" \\\n"
   ]
  },
  {
   "cell_type": "code",
   "execution_count": 39,
   "id": "7fab08fe",
   "metadata": {},
   "outputs": [],
   "source": [
    "url='https://api.kite.trade/instruments/historical/5633/minute?from=2023-02-15+09:15:00&to=2023-03-23+09:20:00'"
   ]
  },
  {
   "cell_type": "code",
   "execution_count": 40,
   "id": "a315d3a4",
   "metadata": {},
   "outputs": [],
   "source": [
    "data=re.get(url,headers=headers)"
   ]
  },
  {
   "cell_type": "code",
   "execution_count": 43,
   "id": "3438ff49",
   "metadata": {},
   "outputs": [
    {
     "data": {
      "text/plain": [
       "['2023-03-23T09:20:00+0530', 1733.5, 1733.5, 1726.35, 1727.95, 3901]"
      ]
     },
     "execution_count": 43,
     "metadata": {},
     "output_type": "execute_result"
    }
   ],
   "source": [
    "data.json()['data']['candles'][-1]"
   ]
  },
  {
   "cell_type": "code",
   "execution_count": 6,
   "id": "feb37b9d",
   "metadata": {},
   "outputs": [
    {
     "data": {
      "text/plain": [
       "'https://api.kite.trade/instruments/historical/5633/minute?from=2017-11-15+09:15:00&to=2017-12-15+09:20:00'"
      ]
     },
     "execution_count": 6,
     "metadata": {},
     "output_type": "execute_result"
    }
   ],
   "source": []
  },
  {
   "cell_type": "code",
   "execution_count": 24,
   "id": "99d28b19",
   "metadata": {},
   "outputs": [
    {
     "data": {
      "text/plain": [
       "False"
      ]
     },
     "execution_count": 24,
     "metadata": {},
     "output_type": "execute_result"
    }
   ],
   "source": [
    "'2017-11-15T09:15:00+0530'>str(datetime.datetime.now())"
   ]
  },
  {
   "cell_type": "code",
   "execution_count": null,
   "id": "3fa85095",
   "metadata": {},
   "outputs": [],
   "source": []
  },
  {
   "cell_type": "code",
   "execution_count": null,
   "id": "4334f6aa",
   "metadata": {},
   "outputs": [],
   "source": []
  },
  {
   "cell_type": "code",
   "execution_count": 1,
   "id": "ef37b977",
   "metadata": {},
   "outputs": [
    {
     "ename": "NameError",
     "evalue": "name 'datetime' is not defined",
     "output_type": "error",
     "traceback": [
      "\u001b[1;31m---------------------------------------------------------------------------\u001b[0m",
      "\u001b[1;31mNameError\u001b[0m                                 Traceback (most recent call last)",
      "Cell \u001b[1;32mIn[1], line 1\u001b[0m\n\u001b[1;32m----> 1\u001b[0m datetime\u001b[39m.\u001b[39mdatetime\u001b[39m.\u001b[39mnow()\u001b[39m.\u001b[39mstrftime(\u001b[39m'\u001b[39m\u001b[39m%\u001b[39m\u001b[39mY-\u001b[39m\u001b[39m%\u001b[39m\u001b[39mm-\u001b[39m\u001b[39m%d\u001b[39;00m\u001b[39mT\u001b[39m\u001b[39m%\u001b[39m\u001b[39mH:\u001b[39m\u001b[39m%\u001b[39m\u001b[39mM:00\u001b[39m\u001b[39m'\u001b[39m)\n",
      "\u001b[1;31mNameError\u001b[0m: name 'datetime' is not defined"
     ]
    }
   ],
   "source": [
    "datetime.datetime.now().strftime('%Y-%m-%dT%H:%M:00')"
   ]
  },
  {
   "cell_type": "code",
   "execution_count": 17,
   "id": "8fe32ece",
   "metadata": {},
   "outputs": [
    {
     "data": {
      "text/plain": [
       "('2023-03-23 15:19:39.148487',\n",
       " datetime.datetime(2023, 3, 23, 15, 19, 39, 148502))"
      ]
     },
     "execution_count": 17,
     "metadata": {},
     "output_type": "execute_result"
    }
   ],
   "source": [
    "str(datetime.datetime.now()),datetime.datetime.now()"
   ]
  },
  {
   "cell_type": "code",
   "execution_count": 34,
   "id": "1cb72ad3",
   "metadata": {},
   "outputs": [
    {
     "data": {
      "text/plain": [
       "'2023-03-23 15:40:28.160574'"
      ]
     },
     "execution_count": 34,
     "metadata": {},
     "output_type": "execute_result"
    }
   ],
   "source": [
    "str(datetime.datetime.now())"
   ]
  },
  {
   "cell_type": "code",
   "execution_count": 30,
   "id": "b2237bbc",
   "metadata": {},
   "outputs": [
    {
     "name": "stdout",
     "output_type": "stream",
     "text": [
      "2023-11-15T09:15:00+0530 2023-03-23 15:22:42.090773\n"
     ]
    },
    {
     "ename": "TypeError",
     "evalue": "'>' not supported between instances of 'str' and 'datetime.datetime'",
     "output_type": "error",
     "traceback": [
      "\u001b[0;31m---------------------------------------------------------------------------\u001b[0m",
      "\u001b[0;31mTypeError\u001b[0m                                 Traceback (most recent call last)",
      "Cell \u001b[0;32mIn[30], line 2\u001b[0m\n\u001b[1;32m      1\u001b[0m \u001b[38;5;28mprint\u001b[39m(\u001b[38;5;124m'\u001b[39m\u001b[38;5;124m2023-11-15T09:15:00+0530\u001b[39m\u001b[38;5;124m'\u001b[39m,\u001b[38;5;28mstr\u001b[39m(datetime\u001b[38;5;241m.\u001b[39mdatetime\u001b[38;5;241m.\u001b[39mnow()))\n\u001b[0;32m----> 2\u001b[0m \u001b[38;5;124;43m'\u001b[39;49m\u001b[38;5;124;43m2023-11-15T09:15:00+0530\u001b[39;49m\u001b[38;5;124;43m'\u001b[39;49m\u001b[38;5;241;43m>\u001b[39;49m\u001b[43mdatetime\u001b[49m\u001b[38;5;241;43m.\u001b[39;49m\u001b[43mdatetime\u001b[49m\u001b[38;5;241;43m.\u001b[39;49m\u001b[43mnow\u001b[49m\u001b[43m(\u001b[49m\u001b[43m)\u001b[49m\n",
      "\u001b[0;31mTypeError\u001b[0m: '>' not supported between instances of 'str' and 'datetime.datetime'"
     ]
    }
   ],
   "source": [
    "print('2023-11-15T09:15:00+0530',str(datetime.datetime.now()))\n",
    "'2023-11-15T09:15:00+0530'>datetime.datetime.now()"
   ]
  },
  {
   "cell_type": "code",
   "execution_count": 31,
   "id": "c03ec1a5",
   "metadata": {},
   "outputs": [],
   "source": [
    "from dateutil import parser"
   ]
  },
  {
   "cell_type": "code",
   "execution_count": null,
   "id": "69a6ade3",
   "metadata": {},
   "outputs": [],
   "source": [
    "parser.parse('2023-11-15T09:15:00+0530')"
   ]
  },
  {
   "cell_type": "code",
   "execution_count": null,
   "id": "0721bf51",
   "metadata": {},
   "outputs": [],
   "source": []
  },
  {
   "cell_type": "code",
   "execution_count": 32,
   "id": "55b70180",
   "metadata": {},
   "outputs": [
    {
     "data": {
      "text/plain": [
       "datetime.datetime"
      ]
     },
     "execution_count": 32,
     "metadata": {},
     "output_type": "execute_result"
    }
   ],
   "source": [
    "from dateutil import parser\n",
    "interval=2\n",
    "import datetime\n",
    "last_time=datetime.datetime.now()\n",
    "    #         call data\n",
    "#     df=supertrend calculate\n",
    "#     get last line\n",
    "#     assin last time to last_time\n",
    "# list_time = \"2023-03-17T15:29:00+0530\"\n",
    "while True:\n",
    "\n",
    "\n",
    "    if datetime.datetime.now()>last_time+datetime.timedelta(minutes=5):\n",
    "        #         call data\n",
    "#     df=supertrend calculate\n",
    "#     get last line\n",
    "#     assin last time to last_time\n",
    "    \n",
    "        \n",
    "        print('running',datetime.datetime.now(),last_time)\n",
    "        \n",
    "        \n",
    "        \n",
    "        "
   ]
  },
  {
   "cell_type": "code",
   "execution_count": 52,
   "id": "cc33e71f",
   "metadata": {},
   "outputs": [
    {
     "data": {
      "text/plain": [
       "True"
      ]
     },
     "execution_count": 52,
     "metadata": {},
     "output_type": "execute_result"
    }
   ],
   "source": [
    "datetime.datetime.now()>parser.parse('2023-03-23T09:20:00+0530'.split('+')[0])+datetime.timedelta(minutes=5)"
   ]
  },
  {
   "cell_type": "code",
   "execution_count": 51,
   "id": "e6381e16",
   "metadata": {},
   "outputs": [
    {
     "data": {
      "text/plain": [
       "datetime.datetime(2023, 3, 23, 9, 25)"
      ]
     },
     "execution_count": 51,
     "metadata": {},
     "output_type": "execute_result"
    }
   ],
   "source": [
    "parser.parse('2023-03-23T09:20:00+0530'.split('+')[0])+datetime.timedelta(minutes=5)"
   ]
  },
  {
   "cell_type": "code",
   "execution_count": 50,
   "id": "0f1f1779",
   "metadata": {},
   "outputs": [
    {
     "data": {
      "text/plain": [
       "'2023-03-23T09:20:00'"
      ]
     },
     "execution_count": 50,
     "metadata": {},
     "output_type": "execute_result"
    }
   ],
   "source": [
    "'2023-03-23T09:20:00+0530'.split('+')[0]"
   ]
  },
  {
   "cell_type": "code",
   "execution_count": null,
   "id": "af715638",
   "metadata": {},
   "outputs": [],
   "source": []
  }
 ],
 "metadata": {
  "kernelspec": {
   "display_name": "Python 3 (ipykernel)",
   "language": "python",
   "name": "python3"
  },
  "language_info": {
   "codemirror_mode": {
    "name": "ipython",
    "version": 3
   },
   "file_extension": ".py",
   "mimetype": "text/x-python",
   "name": "python",
   "nbconvert_exporter": "python",
   "pygments_lexer": "ipython3",
   "version": "3.10.2"
  }
 },
 "nbformat": 4,
 "nbformat_minor": 5
}
